{
 "cells": [
  {
   "attachments": {},
   "cell_type": "markdown",
   "metadata": {},
   "source": [
    "# Reading BCI_C_IV dataset"
   ]
  },
  {
   "attachments": {},
   "cell_type": "markdown",
   "metadata": {},
   "source": [
    "Imports"
   ]
  },
  {
   "cell_type": "code",
   "execution_count": 1,
   "metadata": {},
   "outputs": [],
   "source": [
    "import pandas as pd\n",
    "import numpy as np\n",
    "import os\n",
    "import mne\n",
    "from math import ceil"
   ]
  },
  {
   "attachments": {},
   "cell_type": "markdown",
   "metadata": {},
   "source": [
    "Data preprocessing"
   ]
  },
  {
   "cell_type": "code",
   "execution_count": 2,
   "metadata": {},
   "outputs": [],
   "source": [
    "rootdir = '/mnt/nikita_disk/Neuroscience/BCI_C_IV/Train_cut'\n",
    "\n",
    "MAX_LEN = 1875\n",
    "patients_tuple = tuple(range(1, 10))\n",
    "classes_tuple = (\"left\", \"right\")\n",
    "classes = {\"left\": 0, \"right\": 1}\n",
    "\n",
    "# for \"BCI_C_IV\" channel names are correctly_determined.\n",
    "\n",
    "# For Inno dataset - I'm not sure\n",
    "\n",
    "channel_names = ['EEG-Fz', 'EEG', 'EEG', 'EEG', 'EEG', 'EEG', 'EEG', 'EEG-C3', 'EEG',\n",
    "                 'EEG-Cz', 'EEG', 'EEG-C4', 'EEG', 'EEG', 'EEG', 'EEG', 'EEG',\n",
    "                 'EEG', 'EEG', 'EEG-Pz', 'EEG', 'EEG', 'EOG-left', 'EOG-central', 'EOG-right']\n",
    "sampling_freq = 250\n",
    "start = 2 * sampling_freq\n",
    "end = int(6.5 * sampling_freq)\n",
    "input_dim = 25\n",
    "\n",
    "l_freq = 7\n",
    "h_freq = 30\n",
    "l_trans_bandwidth = 0.5\n",
    "h_trans_bandwidth = 0.5"
   ]
  },
  {
   "cell_type": "code",
   "execution_count": 3,
   "metadata": {},
   "outputs": [],
   "source": [
    "# Helper classes\n",
    "\n",
    "class CV_iteration():\n",
    "    def __init__(self, name: str, train_set: list, valid_set: list, test_set: list):\n",
    "        self.name = name\n",
    "        self.train_set = train_set\n",
    "        self.valid_set = valid_set\n",
    "        self.test_set = test_set"
   ]
  },
  {
   "cell_type": "code",
   "execution_count": 4,
   "metadata": {},
   "outputs": [],
   "source": [
    "# helper functions\n",
    "\n",
    "def zerolistmaker(n):\n",
    "    listofzeros = [0] * n\n",
    "    return listofzeros\n",
    "\n",
    "\n",
    "def fix_df(df: pd.DataFrame, zero_list_function, dataset: str, MAX_LEN: int,\n",
    "           channel_names: list, use_only: str, start: int, end: int,\n",
    "           l_freq: float, h_freq: float, l_trans_bandwidth: float,\n",
    "           h_trans_bandwidth: float):\n",
    "\n",
    "    df = df.drop(['Unnamed: 0'], axis=1)\n",
    "    if dataset == \"Inno\":\n",
    "        numb_of_channels = 32\n",
    "        sfreq = 1000\n",
    "        main_channels = ['C3', 'Cz', 'C4']\n",
    "    elif dataset == \"BCI_C_IV\":\n",
    "        numb_of_channels = 25\n",
    "        sfreq = 250\n",
    "        main_channels = ['EEG-C3', 'EEG-Cz', 'EEG-C4']\n",
    "\n",
    "    df.columns = list(range(numb_of_channels))\n",
    "    # ADD EXTRA ROWS HERE\n",
    "    foundation = [zero_list_function(numb_of_channels)\n",
    "                  for i in range(MAX_LEN - len(df))]\n",
    "    foundation = pd.DataFrame(foundation)\n",
    "    df = pd.concat([df, foundation], ignore_index=True, axis=0)\n",
    "\n",
    "    channel_types = ['eeg']*numb_of_channels\n",
    "    ch_indices = [i for i, ch_name in enumerate(\n",
    "        channel_names) if ch_name in main_channels]\n",
    "\n",
    "    channel_names = [channel_names[i] for i in ch_indices]\n",
    "    channel_types = [channel_types[i] for i in ch_indices]\n",
    "\n",
    "    if use_only == 'C':\n",
    "        # Drop some channels - 3\n",
    "        np_eeg = df.iloc[:, ch_indices].to_numpy().T\n",
    "    else:\n",
    "        # Keep all channels - 32 or 25\n",
    "        np_eeg = df.to_numpy().T\n",
    "\n",
    "    # # Baseline correction\n",
    "    # if dataset == \"Inno\":\n",
    "    #     times = np.linspace(0, 10.094, 10095)\n",
    "    #     np_eeg = mne.baseline.rescale(\n",
    "    #         np_eeg, times, (0., 5.0), mode='mean', copy=False, verbose=False)\n",
    "\n",
    "    # Let's just apply default FIR filtering\n",
    "    np_eeg = mne.filter.filter_data(np_eeg, sfreq=sfreq, l_freq=l_freq, h_freq=h_freq,\n",
    "                                    l_trans_bandwidth=l_trans_bandwidth, h_trans_bandwidth=h_trans_bandwidth,\n",
    "                                    copy=False, verbose=False)\n",
    "\n",
    "    df = pd.DataFrame(np_eeg.T)\n",
    "    # Only select desired range\n",
    "    df = df[start:end]\n",
    "\n",
    "    # # Apply scaling\n",
    "    # scaler = RobustScaler()\n",
    "    # df = scaler.fit_transform(df)\n",
    "\n",
    "    # Add generation of Spectrograms\n",
    "\n",
    "    return df"
   ]
  },
  {
   "cell_type": "code",
   "execution_count": 5,
   "metadata": {},
   "outputs": [],
   "source": [
    "# Helper functions\n",
    "\n",
    "def form_data_tree(rootdir: str, classes_tuple: tuple, patients_tuple: tuple):\n",
    "    # This is the main object with data\n",
    "    classes_data = {}                       # Dict with lists\n",
    "\n",
    "    for dirs, subdirs, files in os.walk(rootdir):\n",
    "        key = dirs.split('/')[-1]\n",
    "        if key in classes_tuple:\n",
    "            patients_dict = {}\n",
    "            for i in patients_tuple:\n",
    "                patients_dict[i] = []\n",
    "            classes_data[key] = patients_dict\n",
    "            for file in files:\n",
    "                patient_number = int(file.split('_')[0])\n",
    "                data_link = os.path.join(dirs, file)\n",
    "                classes_data[key][patient_number].append(data_link)\n",
    "    return classes_data\n",
    "\n",
    "def custom_CV(folder_tree: dict, files_in_a_tree: int):\n",
    "\n",
    "    number_of_folds = 4\n",
    "    elements_per_list = files_in_a_tree/(9*2)\n",
    "    part = ceil(elements_per_list/number_of_folds)\n",
    "    print(part)\n",
    "    fold_1, fold_2, fold_3, fold_4 = [], [], [], []\n",
    "\n",
    "    # Classes_data - original Dataset:\n",
    "    # It consists of 8*20 list of len = 25\n",
    "\n",
    "    for i in folder_tree.values():\n",
    "        for k, j in i.items():\n",
    "            for filename in j[:part]:\n",
    "                fold_1.append(filename)\n",
    "            for filename in j[part: 2 * part]:\n",
    "                fold_2.append(filename)\n",
    "            for filename in j[2 * part: 3 * part]:\n",
    "                fold_3.append(filename)\n",
    "            for filename in j[3 * part:]:\n",
    "                fold_4.append(filename)\n",
    "\n",
    "    return (fold_1, fold_2, fold_3, fold_4)"
   ]
  },
  {
   "cell_type": "code",
   "execution_count": 6,
   "metadata": {},
   "outputs": [],
   "source": [
    "# Helper functions\n",
    "\n",
    "def evaluate_iteration(iteration: CV_iteration, patients_tuple: tuple):\n",
    "    def check_distribution(part_of_dataset):\n",
    "        patients_dict = {}\n",
    "        for i in patients_tuple:\n",
    "            patients_dict[i] = 0\n",
    "\n",
    "        for i in patients_dict:\n",
    "            for j in part_of_dataset:\n",
    "                # Getting the patient №\n",
    "                if int(j.split('/')[-1].split('_')[0]) == i:\n",
    "                    patients_dict[i] = patients_dict[i] + 1\n",
    "        return patients_dict\n",
    "    print(f'''Distribution of patients among train set of {iteration.name} is \\n {check_distribution(iteration.train_set)} \\n\n",
    "              Distribution of patients among valid set of {iteration.name} is \\n {check_distribution(iteration.valid_set)} \\n\n",
    "              Distribution of patients among test set of {iteration.name} is \\n {check_distribution(iteration.test_set)} \\n ''')"
   ]
  },
  {
   "cell_type": "code",
   "execution_count": 7,
   "metadata": {},
   "outputs": [
    {
     "name": "stdout",
     "output_type": "stream",
     "text": [
      "19\n",
      "Distribution of patients among train set of original is \n",
      " {1: 114, 2: 114, 3: 114, 4: 114, 5: 114, 6: 114, 7: 114, 8: 114, 9: 114} \n",
      "\n",
      "              Distribution of patients among valid set of original is \n",
      " {1: 30, 2: 30, 3: 30, 4: 30, 5: 30, 6: 30, 7: 30, 8: 30, 9: 30} \n",
      "\n",
      "              Distribution of patients among test set of original is \n",
      " {1: 30, 2: 30, 3: 30, 4: 30, 5: 30, 6: 30, 7: 30, 8: 30, 9: 30} \n",
      " \n"
     ]
    }
   ],
   "source": [
    "classes_data = form_data_tree(rootdir, classes_tuple, patients_tuple)\n",
    "files_in_a_tree = 1298\n",
    "\n",
    "folds_slice = custom_CV(classes_data, files_in_a_tree)\n",
    "\n",
    "iteration = CV_iteration('original', train_set=folds_slice[0]+folds_slice[1] +\n",
    "                         folds_slice[2], \n",
    "                            valid_set=folds_slice[3], test_set=folds_slice[3])\n",
    "\n",
    "evaluate_iteration(iteration, patients_tuple)"
   ]
  },
  {
   "cell_type": "code",
   "execution_count": 8,
   "metadata": {},
   "outputs": [
    {
     "name": "stdout",
     "output_type": "stream",
     "text": [
      "342\n",
      "342\n",
      "342\n",
      "270\n"
     ]
    }
   ],
   "source": [
    "print(len(folds_slice[0]))\n",
    "print(len(folds_slice[1]))\n",
    "print(len(folds_slice[2]))\n",
    "print(len(folds_slice[3]))"
   ]
  },
  {
   "attachments": {},
   "cell_type": "markdown",
   "metadata": {},
   "source": [
    "Example of Spectrogram Generation"
   ]
  },
  {
   "cell_type": "code",
   "execution_count": 9,
   "metadata": {},
   "outputs": [],
   "source": [
    "example_path = iteration.train_set[8]\n",
    "example = pd.read_csv(example_path)"
   ]
  },
  {
   "cell_type": "code",
   "execution_count": 10,
   "metadata": {},
   "outputs": [],
   "source": [
    "example = fix_df(example, zerolistmaker, 'BCI_C_IV', MAX_LEN, channel_names,\n",
    "                'C', start, end, l_freq, h_freq, l_trans_bandwidth, h_trans_bandwidth)"
   ]
  },
  {
   "cell_type": "code",
   "execution_count": 11,
   "metadata": {},
   "outputs": [
    {
     "data": {
      "text/plain": [
       "[<matplotlib.lines.Line2D at 0x7f71e3ec4810>]"
      ]
     },
     "execution_count": 11,
     "metadata": {},
     "output_type": "execute_result"
    },
    {
     "data": {
      "image/png": "[encoded data removed]",
      "text/plain": [
       "<Figure size 640x480 with 3 Axes>"
      ]
     },
     "metadata": {},
     "output_type": "display_data"
    }
   ],
   "source": [
    "# python wavelet transfrom\n",
    "import pywt\n",
    "import matplotlib.pyplot as plt\n",
    "\n",
    "cA, cD = pywt.dwt(example[0], 'db4')    \n",
    "fig, (ax1, ax2, ax3) = plt.subplots(3, 1, sharex=True)\n",
    "ax1.plot(example[0])\n",
    "ax2.plot(cA,'-g')\n",
    "ax3.plot(cD,'-r')\n"
   ]
  },
  {
   "cell_type": "code",
   "execution_count": 12,
   "metadata": {},
   "outputs": [
    {
     "name": "stdout",
     "output_type": "stream",
     "text": [
      "['Solarize_Light2', '_classic_test_patch', '_mpl-gallery', '_mpl-gallery-nogrid', 'bmh', 'classic', 'dark_background', 'fast', 'fivethirtyeight', 'ggplot', 'grayscale', 'seaborn', 'seaborn-bright', 'seaborn-colorblind', 'seaborn-dark', 'seaborn-dark-palette', 'seaborn-darkgrid', 'seaborn-deep', 'seaborn-muted', 'seaborn-notebook', 'seaborn-paper', 'seaborn-pastel', 'seaborn-poster', 'seaborn-talk', 'seaborn-ticks', 'seaborn-white', 'seaborn-whitegrid', 'tableau-colorblind10']\n",
      "Class of continuous wavelet functions：\n",
      "['cgau1', 'cgau2', 'cgau3', 'cgau4', 'cgau5', 'cgau6', 'cgau7', 'cgau8', 'cmor', 'fbsp', 'gaus1', 'gaus2', 'gaus3', 'gaus4', 'gaus5', 'gaus6', 'gaus7', 'gaus8', 'mexh', 'morl', 'shan']\n"
     ]
    },
    {
     "data": {
      "image/png": "[encoded data removed]",
      "text/plain": [
       "<Figure size 640x480 with 1 Axes>"
      ]
     },
     "metadata": {},
     "output_type": "display_data"
    }
   ],
   "source": [
    "# Wavelet transform generates time-frequency graph\n",
    "\n",
    "print(plt.style.available)\n",
    "plt.style.use('classic')\n",
    "wavlist = pywt.wavelist(kind='continuous')\n",
    "print(\"Class of continuous wavelet functions：\")\n",
    "print(wavlist)\n",
    "t = np.arange(2,6.5,1.0/sampling_freq)\n",
    "wavename = 'morl'    # \"cmorB-C\" where B is the bandwidth and C is the center frequency.\n",
    "# frequencies = pywt.scale2frequency('cmor1.5-0.5', [1, 2, 3, 4]) / (1/sampling_rate)\n",
    "# print(frequencies)\n",
    "totalscal = 64    # scale \n",
    "fc = pywt.central_frequency(wavename) #  central frequency\n",
    "cparam = 2 * fc * totalscal\n",
    "scales = cparam/np.arange(1,totalscal+1)\n",
    "# C3 channel\n",
    "\n",
    "\n",
    "# [cwtmatr, frequencies] = pywt.cwt(example[0],scales,wavename,1.0/sampling_freq) # continuous wavelet transform\n",
    "# fig = plt.figure(1)\n",
    "# plt.contourf(t, frequencies, abs(cwtmatr))\n",
    "# plt.ylabel(u\"freq(Hz)\")\n",
    "# plt.xlabel(u\"time(s)\")\n",
    "# plt.colorbar()\n",
    "# fig.savefig('C3.png')\n",
    "# fig = plt.figure(2)\n",
    "# # C4 channel\n",
    "# [cwtmatr, frequencies] = pywt.cwt(example[2],scales,wavename,1.0/sampling_freq) #连续小波变换\n",
    "# plt.contourf(t, frequencies, abs(cwtmatr))\n",
    "# plt.ylabel(u\"freq(Hz)\")\n",
    "# plt.xlabel(u\"time(s)\")\n",
    "# plt.colorbar()\n",
    "# fig.savefig('C4.png')\n",
    "\n",
    "[cwtmatr3, frequencies3] = pywt.cwt(example[0],scales,wavename,1.0/sampling_freq) \n",
    "[cwtmatr4, frequencies4] = pywt.cwt(example[2],scales,wavename,1.0/sampling_freq) \n",
    "\n",
    "cwtmatr = np.concatenate([abs(cwtmatr3[7:30,:]), abs(cwtmatr4[7:30,:])],axis=0)   # the sequence is C3 then C4\n",
    "fig = plt.figure()\n",
    "plt.contourf(cwtmatr)\n",
    "plt.xticks([])  # remove x\n",
    "plt.yticks([])  # remove y\n",
    "plt.axis('off') # remove axis\n",
    "fig.set_size_inches(800/100.0,600/100.0)#  set pixels width*height\n",
    "plt.gca().xaxis.set_major_locator(plt.NullLocator())\n",
    "plt.gca().yaxis.set_major_locator(plt.NullLocator())\n",
    "plt.subplots_adjust(top=1,bottom=0,left=0,right=1,hspace =0, wspace =0) \n",
    "plt.margins(0,0)\n",
    "fig.savefig('fig.png')\n",
    "\n"
   ]
  },
  {
   "cell_type": "code",
   "execution_count": 13,
   "metadata": {},
   "outputs": [
    {
     "data": {
      "text/plain": [
       "'left'"
      ]
     },
     "execution_count": 13,
     "metadata": {},
     "output_type": "execute_result"
    }
   ],
   "source": [
    "example_path.split('/')[-2]\n",
    "\n"
   ]
  },
  {
   "cell_type": "code",
   "execution_count": 14,
   "metadata": {},
   "outputs": [
    {
     "data": {
      "text/plain": [
       "(64,)"
      ]
     },
     "execution_count": 14,
     "metadata": {},
     "output_type": "execute_result"
    }
   ],
   "source": [
    "frequencies3.shape"
   ]
  },
  {
   "cell_type": "code",
   "execution_count": 15,
   "metadata": {},
   "outputs": [
    {
     "data": {
      "text/plain": [
       "'1_11'"
      ]
     },
     "execution_count": 15,
     "metadata": {},
     "output_type": "execute_result"
    }
   ],
   "source": [
    "example_path.split('/')[-1].split('.')[0]"
   ]
  },
  {
   "attachments": {},
   "cell_type": "markdown",
   "metadata": {},
   "source": [
    "# Making images from all files"
   ]
  },
  {
   "attachments": {},
   "cell_type": "markdown",
   "metadata": {},
   "source": [
    "Train data"
   ]
  },
  {
   "cell_type": "code",
   "execution_count": null,
   "metadata": {},
   "outputs": [],
   "source": [
    "for i in iteration.train_set:\n",
    "    print(i)\n",
    "    data = pd.read_csv(i)\n",
    "    data = fix_df(data, zerolistmaker, 'BCI_C_IV', MAX_LEN, channel_names,\n",
    "                'C', start, end, l_freq, h_freq, l_trans_bandwidth, h_trans_bandwidth)\n",
    "    [cwtmatr3, frequencies3] = pywt.cwt(data[0],scales,wavename,1.0/sampling_freq) \n",
    "    [cwtmatr4, frequencies4] = pywt.cwt(data[2],scales,wavename,1.0/sampling_freq) \n",
    "    cwtmatr = np.concatenate([abs(cwtmatr3[7:30,:]), abs(cwtmatr4[7:30,:])],axis=0)   # the sequence is C3 then C4\n",
    "    fig = plt.figure()\n",
    "    plt.contourf(cwtmatr)\n",
    "    plt.xticks([])  # remove x\n",
    "    plt.yticks([])  # remove y\n",
    "    plt.axis('off') # remove axis\n",
    "    fig.set_size_inches(800/100.0,600/100.0)#  set pixels width*height\n",
    "    plt.gca().xaxis.set_major_locator(plt.NullLocator())\n",
    "    plt.gca().yaxis.set_major_locator(plt.NullLocator())\n",
    "    plt.subplots_adjust(top=1,bottom=0,left=0,right=1,hspace =0, wspace =0) \n",
    "    plt.margins(0,0)\n",
    "    if i.split('/')[-2] == \"right\":\n",
    "        filepath = f\"images_train/right/{i.split('/')[-1].split('.')[0]}.png\"\n",
    "    elif i.split('/')[-2] == \"left\":\n",
    "        filepath = f\"images_train/left/{i.split('/')[-1].split('.')[0]}.png\"\n",
    "    fig.savefig(filepath)\n",
    "    fig.clear()"
   ]
  },
  {
   "attachments": {},
   "cell_type": "markdown",
   "metadata": {},
   "source": [
    "Test data"
   ]
  },
  {
   "cell_type": "code",
   "execution_count": 19,
   "metadata": {},
   "outputs": [
    {
     "data": {
      "text/plain": [
       "['/mnt/nikita_disk/Neuroscience/BCI_C_IV/Train_cut/left/1_98.csv',\n",
       " '/mnt/nikita_disk/Neuroscience/BCI_C_IV/Train_cut/left/1_25.csv',\n",
       " '/mnt/nikita_disk/Neuroscience/BCI_C_IV/Train_cut/left/1_65.csv',\n",
       " '/mnt/nikita_disk/Neuroscience/BCI_C_IV/Train_cut/left/1_31.csv',\n",
       " '/mnt/nikita_disk/Neuroscience/BCI_C_IV/Train_cut/left/1_19.csv',\n",
       " '/mnt/nikita_disk/Neuroscience/BCI_C_IV/Train_cut/left/1_6.csv',\n",
       " '/mnt/nikita_disk/Neuroscience/BCI_C_IV/Train_cut/left/1_103.csv',\n",
       " '/mnt/nikita_disk/Neuroscience/BCI_C_IV/Train_cut/left/1_14.csv',\n",
       " '/mnt/nikita_disk/Neuroscience/BCI_C_IV/Train_cut/left/1_1.csv',\n",
       " '/mnt/nikita_disk/Neuroscience/BCI_C_IV/Train_cut/left/1_140.csv',\n",
       " '/mnt/nikita_disk/Neuroscience/BCI_C_IV/Train_cut/left/1_10.csv',\n",
       " '/mnt/nikita_disk/Neuroscience/BCI_C_IV/Train_cut/left/1_90.csv',\n",
       " '/mnt/nikita_disk/Neuroscience/BCI_C_IV/Train_cut/left/1_129.csv',\n",
       " '/mnt/nikita_disk/Neuroscience/BCI_C_IV/Train_cut/left/1_78.csv',\n",
       " '/mnt/nikita_disk/Neuroscience/BCI_C_IV/Train_cut/left/1_71.csv',\n",
       " '/mnt/nikita_disk/Neuroscience/BCI_C_IV/Train_cut/left/2_98.csv',\n",
       " '/mnt/nikita_disk/Neuroscience/BCI_C_IV/Train_cut/left/2_21.csv',\n",
       " '/mnt/nikita_disk/Neuroscience/BCI_C_IV/Train_cut/left/2_89.csv',\n",
       " '/mnt/nikita_disk/Neuroscience/BCI_C_IV/Train_cut/left/2_122.csv',\n",
       " '/mnt/nikita_disk/Neuroscience/BCI_C_IV/Train_cut/left/2_48.csv',\n",
       " '/mnt/nikita_disk/Neuroscience/BCI_C_IV/Train_cut/left/2_100.csv',\n",
       " '/mnt/nikita_disk/Neuroscience/BCI_C_IV/Train_cut/left/2_13.csv',\n",
       " '/mnt/nikita_disk/Neuroscience/BCI_C_IV/Train_cut/left/2_123.csv',\n",
       " '/mnt/nikita_disk/Neuroscience/BCI_C_IV/Train_cut/left/2_113.csv',\n",
       " '/mnt/nikita_disk/Neuroscience/BCI_C_IV/Train_cut/left/2_36.csv',\n",
       " '/mnt/nikita_disk/Neuroscience/BCI_C_IV/Train_cut/left/2_82.csv',\n",
       " '/mnt/nikita_disk/Neuroscience/BCI_C_IV/Train_cut/left/2_62.csv',\n",
       " '/mnt/nikita_disk/Neuroscience/BCI_C_IV/Train_cut/left/2_86.csv',\n",
       " '/mnt/nikita_disk/Neuroscience/BCI_C_IV/Train_cut/left/2_92.csv',\n",
       " '/mnt/nikita_disk/Neuroscience/BCI_C_IV/Train_cut/left/2_60.csv',\n",
       " '/mnt/nikita_disk/Neuroscience/BCI_C_IV/Train_cut/left/3_57.csv',\n",
       " '/mnt/nikita_disk/Neuroscience/BCI_C_IV/Train_cut/left/3_55.csv',\n",
       " '/mnt/nikita_disk/Neuroscience/BCI_C_IV/Train_cut/left/3_122.csv',\n",
       " '/mnt/nikita_disk/Neuroscience/BCI_C_IV/Train_cut/left/3_41.csv',\n",
       " '/mnt/nikita_disk/Neuroscience/BCI_C_IV/Train_cut/left/3_11.csv',\n",
       " '/mnt/nikita_disk/Neuroscience/BCI_C_IV/Train_cut/left/3_112.csv',\n",
       " '/mnt/nikita_disk/Neuroscience/BCI_C_IV/Train_cut/left/3_127.csv',\n",
       " '/mnt/nikita_disk/Neuroscience/BCI_C_IV/Train_cut/left/3_54.csv',\n",
       " '/mnt/nikita_disk/Neuroscience/BCI_C_IV/Train_cut/left/3_51.csv',\n",
       " '/mnt/nikita_disk/Neuroscience/BCI_C_IV/Train_cut/left/3_38.csv',\n",
       " '/mnt/nikita_disk/Neuroscience/BCI_C_IV/Train_cut/left/3_111.csv',\n",
       " '/mnt/nikita_disk/Neuroscience/BCI_C_IV/Train_cut/left/3_115.csv',\n",
       " '/mnt/nikita_disk/Neuroscience/BCI_C_IV/Train_cut/left/3_34.csv',\n",
       " '/mnt/nikita_disk/Neuroscience/BCI_C_IV/Train_cut/left/3_63.csv',\n",
       " '/mnt/nikita_disk/Neuroscience/BCI_C_IV/Train_cut/left/3_120.csv',\n",
       " '/mnt/nikita_disk/Neuroscience/BCI_C_IV/Train_cut/left/4_119.csv',\n",
       " '/mnt/nikita_disk/Neuroscience/BCI_C_IV/Train_cut/left/4_140.csv',\n",
       " '/mnt/nikita_disk/Neuroscience/BCI_C_IV/Train_cut/left/4_58.csv',\n",
       " '/mnt/nikita_disk/Neuroscience/BCI_C_IV/Train_cut/left/4_47.csv',\n",
       " '/mnt/nikita_disk/Neuroscience/BCI_C_IV/Train_cut/left/4_16.csv',\n",
       " '/mnt/nikita_disk/Neuroscience/BCI_C_IV/Train_cut/left/4_143.csv',\n",
       " '/mnt/nikita_disk/Neuroscience/BCI_C_IV/Train_cut/left/4_29.csv',\n",
       " '/mnt/nikita_disk/Neuroscience/BCI_C_IV/Train_cut/left/4_35.csv',\n",
       " '/mnt/nikita_disk/Neuroscience/BCI_C_IV/Train_cut/left/4_86.csv',\n",
       " '/mnt/nikita_disk/Neuroscience/BCI_C_IV/Train_cut/left/4_59.csv',\n",
       " '/mnt/nikita_disk/Neuroscience/BCI_C_IV/Train_cut/left/4_1.csv',\n",
       " '/mnt/nikita_disk/Neuroscience/BCI_C_IV/Train_cut/left/4_44.csv',\n",
       " '/mnt/nikita_disk/Neuroscience/BCI_C_IV/Train_cut/left/4_4.csv',\n",
       " '/mnt/nikita_disk/Neuroscience/BCI_C_IV/Train_cut/left/4_63.csv',\n",
       " '/mnt/nikita_disk/Neuroscience/BCI_C_IV/Train_cut/left/4_0.csv',\n",
       " '/mnt/nikita_disk/Neuroscience/BCI_C_IV/Train_cut/left/5_101.csv',\n",
       " '/mnt/nikita_disk/Neuroscience/BCI_C_IV/Train_cut/left/5_11.csv',\n",
       " '/mnt/nikita_disk/Neuroscience/BCI_C_IV/Train_cut/left/5_87.csv',\n",
       " '/mnt/nikita_disk/Neuroscience/BCI_C_IV/Train_cut/left/5_102.csv',\n",
       " '/mnt/nikita_disk/Neuroscience/BCI_C_IV/Train_cut/left/5_55.csv',\n",
       " '/mnt/nikita_disk/Neuroscience/BCI_C_IV/Train_cut/left/5_80.csv',\n",
       " '/mnt/nikita_disk/Neuroscience/BCI_C_IV/Train_cut/left/5_60.csv',\n",
       " '/mnt/nikita_disk/Neuroscience/BCI_C_IV/Train_cut/left/5_74.csv',\n",
       " '/mnt/nikita_disk/Neuroscience/BCI_C_IV/Train_cut/left/5_71.csv',\n",
       " '/mnt/nikita_disk/Neuroscience/BCI_C_IV/Train_cut/left/5_73.csv',\n",
       " '/mnt/nikita_disk/Neuroscience/BCI_C_IV/Train_cut/left/5_120.csv',\n",
       " '/mnt/nikita_disk/Neuroscience/BCI_C_IV/Train_cut/left/5_49.csv',\n",
       " '/mnt/nikita_disk/Neuroscience/BCI_C_IV/Train_cut/left/5_115.csv',\n",
       " '/mnt/nikita_disk/Neuroscience/BCI_C_IV/Train_cut/left/5_143.csv',\n",
       " '/mnt/nikita_disk/Neuroscience/BCI_C_IV/Train_cut/left/5_100.csv',\n",
       " '/mnt/nikita_disk/Neuroscience/BCI_C_IV/Train_cut/left/6_114.csv',\n",
       " '/mnt/nikita_disk/Neuroscience/BCI_C_IV/Train_cut/left/6_32.csv',\n",
       " '/mnt/nikita_disk/Neuroscience/BCI_C_IV/Train_cut/left/6_140.csv',\n",
       " '/mnt/nikita_disk/Neuroscience/BCI_C_IV/Train_cut/left/6_131.csv',\n",
       " '/mnt/nikita_disk/Neuroscience/BCI_C_IV/Train_cut/left/6_137.csv',\n",
       " '/mnt/nikita_disk/Neuroscience/BCI_C_IV/Train_cut/left/6_118.csv',\n",
       " '/mnt/nikita_disk/Neuroscience/BCI_C_IV/Train_cut/left/6_24.csv',\n",
       " '/mnt/nikita_disk/Neuroscience/BCI_C_IV/Train_cut/left/6_96.csv',\n",
       " '/mnt/nikita_disk/Neuroscience/BCI_C_IV/Train_cut/left/6_138.csv',\n",
       " '/mnt/nikita_disk/Neuroscience/BCI_C_IV/Train_cut/left/6_56.csv',\n",
       " '/mnt/nikita_disk/Neuroscience/BCI_C_IV/Train_cut/left/6_99.csv',\n",
       " '/mnt/nikita_disk/Neuroscience/BCI_C_IV/Train_cut/left/6_8.csv',\n",
       " '/mnt/nikita_disk/Neuroscience/BCI_C_IV/Train_cut/left/6_106.csv',\n",
       " '/mnt/nikita_disk/Neuroscience/BCI_C_IV/Train_cut/left/6_45.csv',\n",
       " '/mnt/nikita_disk/Neuroscience/BCI_C_IV/Train_cut/left/6_95.csv',\n",
       " '/mnt/nikita_disk/Neuroscience/BCI_C_IV/Train_cut/left/7_16.csv',\n",
       " '/mnt/nikita_disk/Neuroscience/BCI_C_IV/Train_cut/left/7_49.csv',\n",
       " '/mnt/nikita_disk/Neuroscience/BCI_C_IV/Train_cut/left/7_75.csv',\n",
       " '/mnt/nikita_disk/Neuroscience/BCI_C_IV/Train_cut/left/7_71.csv',\n",
       " '/mnt/nikita_disk/Neuroscience/BCI_C_IV/Train_cut/left/7_117.csv',\n",
       " '/mnt/nikita_disk/Neuroscience/BCI_C_IV/Train_cut/left/7_31.csv',\n",
       " '/mnt/nikita_disk/Neuroscience/BCI_C_IV/Train_cut/left/7_114.csv',\n",
       " '/mnt/nikita_disk/Neuroscience/BCI_C_IV/Train_cut/left/7_73.csv',\n",
       " '/mnt/nikita_disk/Neuroscience/BCI_C_IV/Train_cut/left/7_54.csv',\n",
       " '/mnt/nikita_disk/Neuroscience/BCI_C_IV/Train_cut/left/7_34.csv',\n",
       " '/mnt/nikita_disk/Neuroscience/BCI_C_IV/Train_cut/left/7_60.csv',\n",
       " '/mnt/nikita_disk/Neuroscience/BCI_C_IV/Train_cut/left/7_47.csv',\n",
       " '/mnt/nikita_disk/Neuroscience/BCI_C_IV/Train_cut/left/7_74.csv',\n",
       " '/mnt/nikita_disk/Neuroscience/BCI_C_IV/Train_cut/left/7_35.csv',\n",
       " '/mnt/nikita_disk/Neuroscience/BCI_C_IV/Train_cut/left/7_140.csv',\n",
       " '/mnt/nikita_disk/Neuroscience/BCI_C_IV/Train_cut/left/8_122.csv',\n",
       " '/mnt/nikita_disk/Neuroscience/BCI_C_IV/Train_cut/left/8_114.csv',\n",
       " '/mnt/nikita_disk/Neuroscience/BCI_C_IV/Train_cut/left/8_29.csv',\n",
       " '/mnt/nikita_disk/Neuroscience/BCI_C_IV/Train_cut/left/8_87.csv',\n",
       " '/mnt/nikita_disk/Neuroscience/BCI_C_IV/Train_cut/left/8_51.csv',\n",
       " '/mnt/nikita_disk/Neuroscience/BCI_C_IV/Train_cut/left/8_57.csv',\n",
       " '/mnt/nikita_disk/Neuroscience/BCI_C_IV/Train_cut/left/8_136.csv',\n",
       " '/mnt/nikita_disk/Neuroscience/BCI_C_IV/Train_cut/left/8_112.csv',\n",
       " '/mnt/nikita_disk/Neuroscience/BCI_C_IV/Train_cut/left/8_41.csv',\n",
       " '/mnt/nikita_disk/Neuroscience/BCI_C_IV/Train_cut/left/8_60.csv',\n",
       " '/mnt/nikita_disk/Neuroscience/BCI_C_IV/Train_cut/left/8_15.csv',\n",
       " '/mnt/nikita_disk/Neuroscience/BCI_C_IV/Train_cut/left/8_3.csv',\n",
       " '/mnt/nikita_disk/Neuroscience/BCI_C_IV/Train_cut/left/8_65.csv',\n",
       " '/mnt/nikita_disk/Neuroscience/BCI_C_IV/Train_cut/left/8_10.csv',\n",
       " '/mnt/nikita_disk/Neuroscience/BCI_C_IV/Train_cut/left/8_30.csv',\n",
       " '/mnt/nikita_disk/Neuroscience/BCI_C_IV/Train_cut/left/9_95.csv',\n",
       " '/mnt/nikita_disk/Neuroscience/BCI_C_IV/Train_cut/left/9_10.csv',\n",
       " '/mnt/nikita_disk/Neuroscience/BCI_C_IV/Train_cut/left/9_121.csv',\n",
       " '/mnt/nikita_disk/Neuroscience/BCI_C_IV/Train_cut/left/9_55.csv',\n",
       " '/mnt/nikita_disk/Neuroscience/BCI_C_IV/Train_cut/left/9_60.csv',\n",
       " '/mnt/nikita_disk/Neuroscience/BCI_C_IV/Train_cut/left/9_122.csv',\n",
       " '/mnt/nikita_disk/Neuroscience/BCI_C_IV/Train_cut/left/9_56.csv',\n",
       " '/mnt/nikita_disk/Neuroscience/BCI_C_IV/Train_cut/left/9_79.csv',\n",
       " '/mnt/nikita_disk/Neuroscience/BCI_C_IV/Train_cut/left/9_114.csv',\n",
       " '/mnt/nikita_disk/Neuroscience/BCI_C_IV/Train_cut/left/9_11.csv',\n",
       " '/mnt/nikita_disk/Neuroscience/BCI_C_IV/Train_cut/left/9_99.csv',\n",
       " '/mnt/nikita_disk/Neuroscience/BCI_C_IV/Train_cut/left/9_127.csv',\n",
       " '/mnt/nikita_disk/Neuroscience/BCI_C_IV/Train_cut/left/9_63.csv',\n",
       " '/mnt/nikita_disk/Neuroscience/BCI_C_IV/Train_cut/left/9_96.csv',\n",
       " '/mnt/nikita_disk/Neuroscience/BCI_C_IV/Train_cut/left/9_85.csv',\n",
       " '/mnt/nikita_disk/Neuroscience/BCI_C_IV/Train_cut/right/1_72.csv',\n",
       " '/mnt/nikita_disk/Neuroscience/BCI_C_IV/Train_cut/right/1_66.csv',\n",
       " '/mnt/nikita_disk/Neuroscience/BCI_C_IV/Train_cut/right/1_80.csv',\n",
       " '/mnt/nikita_disk/Neuroscience/BCI_C_IV/Train_cut/right/1_125.csv',\n",
       " '/mnt/nikita_disk/Neuroscience/BCI_C_IV/Train_cut/right/1_53.csv',\n",
       " '/mnt/nikita_disk/Neuroscience/BCI_C_IV/Train_cut/right/1_122.csv',\n",
       " '/mnt/nikita_disk/Neuroscience/BCI_C_IV/Train_cut/right/1_70.csv',\n",
       " '/mnt/nikita_disk/Neuroscience/BCI_C_IV/Train_cut/right/1_0.csv',\n",
       " '/mnt/nikita_disk/Neuroscience/BCI_C_IV/Train_cut/right/1_84.csv',\n",
       " '/mnt/nikita_disk/Neuroscience/BCI_C_IV/Train_cut/right/1_79.csv',\n",
       " '/mnt/nikita_disk/Neuroscience/BCI_C_IV/Train_cut/right/1_124.csv',\n",
       " '/mnt/nikita_disk/Neuroscience/BCI_C_IV/Train_cut/right/1_9.csv',\n",
       " '/mnt/nikita_disk/Neuroscience/BCI_C_IV/Train_cut/right/1_22.csv',\n",
       " '/mnt/nikita_disk/Neuroscience/BCI_C_IV/Train_cut/right/1_13.csv',\n",
       " '/mnt/nikita_disk/Neuroscience/BCI_C_IV/Train_cut/right/1_118.csv',\n",
       " '/mnt/nikita_disk/Neuroscience/BCI_C_IV/Train_cut/right/2_72.csv',\n",
       " '/mnt/nikita_disk/Neuroscience/BCI_C_IV/Train_cut/right/2_88.csv',\n",
       " '/mnt/nikita_disk/Neuroscience/BCI_C_IV/Train_cut/right/2_66.csv',\n",
       " '/mnt/nikita_disk/Neuroscience/BCI_C_IV/Train_cut/right/2_132.csv',\n",
       " '/mnt/nikita_disk/Neuroscience/BCI_C_IV/Train_cut/right/2_32.csv',\n",
       " '/mnt/nikita_disk/Neuroscience/BCI_C_IV/Train_cut/right/2_83.csv',\n",
       " '/mnt/nikita_disk/Neuroscience/BCI_C_IV/Train_cut/right/2_12.csv',\n",
       " '/mnt/nikita_disk/Neuroscience/BCI_C_IV/Train_cut/right/2_121.csv',\n",
       " '/mnt/nikita_disk/Neuroscience/BCI_C_IV/Train_cut/right/2_39.csv',\n",
       " '/mnt/nikita_disk/Neuroscience/BCI_C_IV/Train_cut/right/2_128.csv',\n",
       " '/mnt/nikita_disk/Neuroscience/BCI_C_IV/Train_cut/right/2_124.csv',\n",
       " '/mnt/nikita_disk/Neuroscience/BCI_C_IV/Train_cut/right/2_27.csv',\n",
       " '/mnt/nikita_disk/Neuroscience/BCI_C_IV/Train_cut/right/2_106.csv',\n",
       " '/mnt/nikita_disk/Neuroscience/BCI_C_IV/Train_cut/right/2_1.csv',\n",
       " '/mnt/nikita_disk/Neuroscience/BCI_C_IV/Train_cut/right/2_85.csv',\n",
       " '/mnt/nikita_disk/Neuroscience/BCI_C_IV/Train_cut/right/3_131.csv',\n",
       " '/mnt/nikita_disk/Neuroscience/BCI_C_IV/Train_cut/right/3_44.csv',\n",
       " '/mnt/nikita_disk/Neuroscience/BCI_C_IV/Train_cut/right/3_24.csv',\n",
       " '/mnt/nikita_disk/Neuroscience/BCI_C_IV/Train_cut/right/3_6.csv',\n",
       " '/mnt/nikita_disk/Neuroscience/BCI_C_IV/Train_cut/right/3_108.csv',\n",
       " '/mnt/nikita_disk/Neuroscience/BCI_C_IV/Train_cut/right/3_124.csv',\n",
       " '/mnt/nikita_disk/Neuroscience/BCI_C_IV/Train_cut/right/3_50.csv',\n",
       " '/mnt/nikita_disk/Neuroscience/BCI_C_IV/Train_cut/right/3_118.csv',\n",
       " '/mnt/nikita_disk/Neuroscience/BCI_C_IV/Train_cut/right/3_90.csv',\n",
       " '/mnt/nikita_disk/Neuroscience/BCI_C_IV/Train_cut/right/3_135.csv',\n",
       " '/mnt/nikita_disk/Neuroscience/BCI_C_IV/Train_cut/right/3_83.csv',\n",
       " '/mnt/nikita_disk/Neuroscience/BCI_C_IV/Train_cut/right/3_68.csv',\n",
       " '/mnt/nikita_disk/Neuroscience/BCI_C_IV/Train_cut/right/3_40.csv',\n",
       " '/mnt/nikita_disk/Neuroscience/BCI_C_IV/Train_cut/right/3_85.csv',\n",
       " '/mnt/nikita_disk/Neuroscience/BCI_C_IV/Train_cut/right/3_104.csv',\n",
       " '/mnt/nikita_disk/Neuroscience/BCI_C_IV/Train_cut/right/4_81.csv',\n",
       " '/mnt/nikita_disk/Neuroscience/BCI_C_IV/Train_cut/right/4_31.csv',\n",
       " '/mnt/nikita_disk/Neuroscience/BCI_C_IV/Train_cut/right/4_15.csv',\n",
       " '/mnt/nikita_disk/Neuroscience/BCI_C_IV/Train_cut/right/4_50.csv',\n",
       " '/mnt/nikita_disk/Neuroscience/BCI_C_IV/Train_cut/right/4_94.csv',\n",
       " '/mnt/nikita_disk/Neuroscience/BCI_C_IV/Train_cut/right/4_131.csv',\n",
       " '/mnt/nikita_disk/Neuroscience/BCI_C_IV/Train_cut/right/4_76.csv',\n",
       " '/mnt/nikita_disk/Neuroscience/BCI_C_IV/Train_cut/right/4_7.csv',\n",
       " '/mnt/nikita_disk/Neuroscience/BCI_C_IV/Train_cut/right/4_90.csv',\n",
       " '/mnt/nikita_disk/Neuroscience/BCI_C_IV/Train_cut/right/4_10.csv',\n",
       " '/mnt/nikita_disk/Neuroscience/BCI_C_IV/Train_cut/right/4_138.csv',\n",
       " '/mnt/nikita_disk/Neuroscience/BCI_C_IV/Train_cut/right/4_125.csv',\n",
       " '/mnt/nikita_disk/Neuroscience/BCI_C_IV/Train_cut/right/4_98.csv',\n",
       " '/mnt/nikita_disk/Neuroscience/BCI_C_IV/Train_cut/right/4_106.csv',\n",
       " '/mnt/nikita_disk/Neuroscience/BCI_C_IV/Train_cut/right/4_45.csv',\n",
       " '/mnt/nikita_disk/Neuroscience/BCI_C_IV/Train_cut/right/5_131.csv',\n",
       " '/mnt/nikita_disk/Neuroscience/BCI_C_IV/Train_cut/right/5_119.csv',\n",
       " '/mnt/nikita_disk/Neuroscience/BCI_C_IV/Train_cut/right/5_19.csv',\n",
       " '/mnt/nikita_disk/Neuroscience/BCI_C_IV/Train_cut/right/5_121.csv',\n",
       " '/mnt/nikita_disk/Neuroscience/BCI_C_IV/Train_cut/right/5_91.csv',\n",
       " '/mnt/nikita_disk/Neuroscience/BCI_C_IV/Train_cut/right/5_40.csv',\n",
       " '/mnt/nikita_disk/Neuroscience/BCI_C_IV/Train_cut/right/5_66.csv',\n",
       " '/mnt/nikita_disk/Neuroscience/BCI_C_IV/Train_cut/right/5_99.csv',\n",
       " '/mnt/nikita_disk/Neuroscience/BCI_C_IV/Train_cut/right/5_27.csv',\n",
       " '/mnt/nikita_disk/Neuroscience/BCI_C_IV/Train_cut/right/5_12.csv',\n",
       " '/mnt/nikita_disk/Neuroscience/BCI_C_IV/Train_cut/right/5_129.csv',\n",
       " '/mnt/nikita_disk/Neuroscience/BCI_C_IV/Train_cut/right/5_106.csv',\n",
       " '/mnt/nikita_disk/Neuroscience/BCI_C_IV/Train_cut/right/5_56.csv',\n",
       " '/mnt/nikita_disk/Neuroscience/BCI_C_IV/Train_cut/right/5_67.csv',\n",
       " '/mnt/nikita_disk/Neuroscience/BCI_C_IV/Train_cut/right/5_104.csv',\n",
       " '/mnt/nikita_disk/Neuroscience/BCI_C_IV/Train_cut/right/6_54.csv',\n",
       " '/mnt/nikita_disk/Neuroscience/BCI_C_IV/Train_cut/right/6_130.csv',\n",
       " '/mnt/nikita_disk/Neuroscience/BCI_C_IV/Train_cut/right/6_101.csv',\n",
       " '/mnt/nikita_disk/Neuroscience/BCI_C_IV/Train_cut/right/6_109.csv',\n",
       " '/mnt/nikita_disk/Neuroscience/BCI_C_IV/Train_cut/right/6_52.csv',\n",
       " '/mnt/nikita_disk/Neuroscience/BCI_C_IV/Train_cut/right/6_74.csv',\n",
       " '/mnt/nikita_disk/Neuroscience/BCI_C_IV/Train_cut/right/6_0.csv',\n",
       " '/mnt/nikita_disk/Neuroscience/BCI_C_IV/Train_cut/right/6_136.csv',\n",
       " '/mnt/nikita_disk/Neuroscience/BCI_C_IV/Train_cut/right/6_116.csv',\n",
       " '/mnt/nikita_disk/Neuroscience/BCI_C_IV/Train_cut/right/6_50.csv',\n",
       " '/mnt/nikita_disk/Neuroscience/BCI_C_IV/Train_cut/right/6_37.csv',\n",
       " '/mnt/nikita_disk/Neuroscience/BCI_C_IV/Train_cut/right/6_124.csv',\n",
       " '/mnt/nikita_disk/Neuroscience/BCI_C_IV/Train_cut/right/6_27.csv',\n",
       " '/mnt/nikita_disk/Neuroscience/BCI_C_IV/Train_cut/right/6_126.csv',\n",
       " '/mnt/nikita_disk/Neuroscience/BCI_C_IV/Train_cut/right/6_47.csv',\n",
       " '/mnt/nikita_disk/Neuroscience/BCI_C_IV/Train_cut/right/7_40.csv',\n",
       " '/mnt/nikita_disk/Neuroscience/BCI_C_IV/Train_cut/right/7_105.csv',\n",
       " '/mnt/nikita_disk/Neuroscience/BCI_C_IV/Train_cut/right/7_130.csv',\n",
       " '/mnt/nikita_disk/Neuroscience/BCI_C_IV/Train_cut/right/7_53.csv',\n",
       " '/mnt/nikita_disk/Neuroscience/BCI_C_IV/Train_cut/right/7_46.csv',\n",
       " '/mnt/nikita_disk/Neuroscience/BCI_C_IV/Train_cut/right/7_142.csv',\n",
       " '/mnt/nikita_disk/Neuroscience/BCI_C_IV/Train_cut/right/7_129.csv',\n",
       " '/mnt/nikita_disk/Neuroscience/BCI_C_IV/Train_cut/right/7_32.csv',\n",
       " '/mnt/nikita_disk/Neuroscience/BCI_C_IV/Train_cut/right/7_67.csv',\n",
       " '/mnt/nikita_disk/Neuroscience/BCI_C_IV/Train_cut/right/7_103.csv',\n",
       " '/mnt/nikita_disk/Neuroscience/BCI_C_IV/Train_cut/right/7_91.csv',\n",
       " '/mnt/nikita_disk/Neuroscience/BCI_C_IV/Train_cut/right/7_70.csv',\n",
       " '/mnt/nikita_disk/Neuroscience/BCI_C_IV/Train_cut/right/7_104.csv',\n",
       " '/mnt/nikita_disk/Neuroscience/BCI_C_IV/Train_cut/right/7_17.csv',\n",
       " '/mnt/nikita_disk/Neuroscience/BCI_C_IV/Train_cut/right/7_96.csv',\n",
       " '/mnt/nikita_disk/Neuroscience/BCI_C_IV/Train_cut/right/8_124.csv',\n",
       " '/mnt/nikita_disk/Neuroscience/BCI_C_IV/Train_cut/right/8_46.csv',\n",
       " '/mnt/nikita_disk/Neuroscience/BCI_C_IV/Train_cut/right/8_1.csv',\n",
       " '/mnt/nikita_disk/Neuroscience/BCI_C_IV/Train_cut/right/8_108.csv',\n",
       " '/mnt/nikita_disk/Neuroscience/BCI_C_IV/Train_cut/right/8_58.csv',\n",
       " '/mnt/nikita_disk/Neuroscience/BCI_C_IV/Train_cut/right/8_7.csv',\n",
       " '/mnt/nikita_disk/Neuroscience/BCI_C_IV/Train_cut/right/8_22.csv',\n",
       " '/mnt/nikita_disk/Neuroscience/BCI_C_IV/Train_cut/right/8_45.csv',\n",
       " '/mnt/nikita_disk/Neuroscience/BCI_C_IV/Train_cut/right/8_105.csv',\n",
       " '/mnt/nikita_disk/Neuroscience/BCI_C_IV/Train_cut/right/8_37.csv',\n",
       " '/mnt/nikita_disk/Neuroscience/BCI_C_IV/Train_cut/right/8_24.csv',\n",
       " '/mnt/nikita_disk/Neuroscience/BCI_C_IV/Train_cut/right/8_76.csv',\n",
       " '/mnt/nikita_disk/Neuroscience/BCI_C_IV/Train_cut/right/8_20.csv',\n",
       " '/mnt/nikita_disk/Neuroscience/BCI_C_IV/Train_cut/right/8_119.csv',\n",
       " '/mnt/nikita_disk/Neuroscience/BCI_C_IV/Train_cut/right/8_40.csv',\n",
       " '/mnt/nikita_disk/Neuroscience/BCI_C_IV/Train_cut/right/9_93.csv',\n",
       " '/mnt/nikita_disk/Neuroscience/BCI_C_IV/Train_cut/right/9_20.csv',\n",
       " '/mnt/nikita_disk/Neuroscience/BCI_C_IV/Train_cut/right/9_112.csv',\n",
       " '/mnt/nikita_disk/Neuroscience/BCI_C_IV/Train_cut/right/9_44.csv',\n",
       " '/mnt/nikita_disk/Neuroscience/BCI_C_IV/Train_cut/right/9_7.csv',\n",
       " '/mnt/nikita_disk/Neuroscience/BCI_C_IV/Train_cut/right/9_88.csv',\n",
       " '/mnt/nikita_disk/Neuroscience/BCI_C_IV/Train_cut/right/9_33.csv',\n",
       " '/mnt/nikita_disk/Neuroscience/BCI_C_IV/Train_cut/right/9_3.csv',\n",
       " '/mnt/nikita_disk/Neuroscience/BCI_C_IV/Train_cut/right/9_101.csv',\n",
       " '/mnt/nikita_disk/Neuroscience/BCI_C_IV/Train_cut/right/9_80.csv',\n",
       " '/mnt/nikita_disk/Neuroscience/BCI_C_IV/Train_cut/right/9_0.csv',\n",
       " '/mnt/nikita_disk/Neuroscience/BCI_C_IV/Train_cut/right/9_22.csv',\n",
       " '/mnt/nikita_disk/Neuroscience/BCI_C_IV/Train_cut/right/9_97.csv',\n",
       " '/mnt/nikita_disk/Neuroscience/BCI_C_IV/Train_cut/right/9_38.csv',\n",
       " '/mnt/nikita_disk/Neuroscience/BCI_C_IV/Train_cut/right/9_84.csv']"
      ]
     },
     "execution_count": 19,
     "metadata": {},
     "output_type": "execute_result"
    }
   ],
   "source": [
    "iteration.test_set"
   ]
  },
  {
   "cell_type": "code",
   "execution_count": null,
   "metadata": {},
   "outputs": [],
   "source": [
    "for i in iteration.test_set:\n",
    "    data = pd.read_csv(i)\n",
    "    data = fix_df(data, zerolistmaker, 'BCI_C_IV', MAX_LEN, channel_names,\n",
    "                'C', start, end, l_freq, h_freq, l_trans_bandwidth, h_trans_bandwidth)\n",
    "    [cwtmatr3, frequencies3] = pywt.cwt(data[0],scales,wavename,1.0/sampling_freq) \n",
    "    [cwtmatr4, frequencies4] = pywt.cwt(data[2],scales,wavename,1.0/sampling_freq) \n",
    "    cwtmatr = np.concatenate([abs(cwtmatr3[7:30,:]), abs(cwtmatr4[7:30,:])],axis=0)   # the sequence is C3 then C4\n",
    "    fig = plt.figure()\n",
    "    plt.contourf(cwtmatr)\n",
    "    plt.xticks([])  # remove x\n",
    "    plt.yticks([])  # remove y\n",
    "    plt.axis('off') # remove axis\n",
    "    fig.set_size_inches(800/100.0,600/100.0)#  set pixels width*height\n",
    "    plt.gca().xaxis.set_major_locator(plt.NullLocator())\n",
    "    plt.gca().yaxis.set_major_locator(plt.NullLocator())\n",
    "    plt.subplots_adjust(top=1,bottom=0,left=0,right=1,hspace =0, wspace =0) \n",
    "    plt.margins(0,0)\n",
    "    if i.split('/')[-2] == \"right\":\n",
    "        filepath = f\"images_test/right/{i.split('/')[-1].split('.')[0]}.png\"\n",
    "    elif i.split('/')[-2] == \"left\":\n",
    "        filepath = f\"images_test/left/{i.split('/')[-1].split('.')[0]}.png\"\n",
    "    fig.savefig(filepath)\n",
    "    fig.clear()"
   ]
  }
 ],
 "metadata": {
  "kernelspec": {
   "display_name": "neuro",
   "language": "python",
   "name": "python3"
  },
  "language_info": {
   "codemirror_mode": {
    "name": "ipython",
    "version": 3
   },
   "file_extension": ".py",
   "mimetype": "text/x-python",
   "name": "python",
   "nbconvert_exporter": "python",
   "pygments_lexer": "ipython3",
   "version": "3.7.16"
  },
  "orig_nbformat": 4
 },
 "nbformat": 4,
 "nbformat_minor": 2
}
