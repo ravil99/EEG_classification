{
 "cells": [
  {
   "cell_type": "markdown",
   "metadata": {},
   "source": [
    "# 0. Import dependencies"
   ]
  },
  {
   "cell_type": "code",
   "execution_count": 2,
   "metadata": {},
   "outputs": [],
   "source": [
    "import pandas as pd\n",
    "import numpy as np\n",
    "import os\n",
    "import torch\n",
    "from torch.utils.data import Dataset, DataLoader\n",
    "from sklearn.preprocessing import RobustScaler\n"
   ]
  },
  {
   "attachments": {},
   "cell_type": "markdown",
   "metadata": {},
   "source": [
    "# 1. Data preprocessing"
   ]
  },
  {
   "attachments": {},
   "cell_type": "markdown",
   "metadata": {},
   "source": [
    "Forming folder tree"
   ]
  },
  {
   "cell_type": "code",
   "execution_count": 3,
   "metadata": {},
   "outputs": [],
   "source": [
    "rootdir = \"NeuroScience Data\"\n",
    "classes_tuple = (\"a15\", \"a25\", \"a40\", \"a45\", \"a55\", \"a60\", \"a75\", \"a85\")\n",
    "patients_tuple = tuple(range(1, 21))\n",
    "\n",
    "# This is the main object with data\n",
    "classes_data = {}                       # Dict with lists\n",
    "\n",
    "\n",
    "def form_data_tree(rootdir: str, classes_data: dict):\n",
    "    for dirs, subdirs, files in os.walk(rootdir):\n",
    "        key = dirs.split('/')[-1]\n",
    "        if key in classes_tuple:\n",
    "            patients_dict = {}\n",
    "            for i in patients_tuple:\n",
    "                patients_dict[i] = []\n",
    "            classes_data[key] = patients_dict\n",
    "            for file in files:\n",
    "                patient_number = int(file.split('_')[1])\n",
    "                data_link = os.path.join(dirs, file)\n",
    "                classes_data[key][patient_number].append(data_link)\n",
    "    return classes_data\n",
    "\n",
    "\n",
    "classes_data = form_data_tree(rootdir=rootdir, classes_data=classes_data)\n"
   ]
  },
  {
   "cell_type": "code",
   "execution_count": 4,
   "metadata": {},
   "outputs": [
    {
     "data": {
      "text/plain": [
       "8"
      ]
     },
     "execution_count": 4,
     "metadata": {},
     "output_type": "execute_result"
    }
   ],
   "source": [
    "len(classes_data)"
   ]
  },
  {
   "cell_type": "code",
   "execution_count": 5,
   "metadata": {},
   "outputs": [
    {
     "data": {
      "text/plain": [
       "20"
      ]
     },
     "execution_count": 5,
     "metadata": {},
     "output_type": "execute_result"
    }
   ],
   "source": [
    "len(classes_data[\"a15\"])"
   ]
  },
  {
   "attachments": {},
   "cell_type": "markdown",
   "metadata": {},
   "source": [
    "We'we packed our filenames in a nested dictionary. In total we will have 8 * 20 = 160 list of filenames."
   ]
  },
  {
   "cell_type": "code",
   "execution_count": 6,
   "metadata": {},
   "outputs": [],
   "source": [
    "# Labels of classification\n",
    "classes = {\"a15\": 0, \"a25\": 1, \"a40\": 2, \"a45\": 3, \"a55\": 4, \"a60\": 5, \"a75\": 6, \"a85\": 7}"
   ]
  },
  {
   "cell_type": "code",
   "execution_count": 7,
   "metadata": {},
   "outputs": [],
   "source": [
    "def prefix_df(df: pd.DataFrame):\n",
    "    \"\"\"\n",
    "        Function, that fixes DF, but without \n",
    "        adding extra columns    \n",
    "    \"\"\"\n",
    "\n",
    "    # transposing and setting correct index names\n",
    "    df = df.T\n",
    "    correct_indexes = [i+1 for i in range(len(df.columns))]\n",
    "    df.columns = correct_indexes\n",
    "    df[0] = df.index\n",
    "    df = df.reset_index()\n",
    "\n",
    "    # removing ['index'] column, setting the correct datatype and element order\n",
    "    df = df.drop(['index'], axis=1)\n",
    "    correct_indexes = df.columns.to_list()\n",
    "    correct_indexes = correct_indexes[-1:] + correct_indexes[:-1]\n",
    "    df = df[correct_indexes]\n",
    "\n",
    "    # In case of errors='coerce', error-cell will\n",
    "    # be turned into nan. Then it will be handled\n",
    "\n",
    "    df[0] = pd.to_numeric(df[0], errors='coerce')\n",
    "    df = df.fillna(df.mean())\n",
    "\n",
    "    return df"
   ]
  },
  {
   "attachments": {},
   "cell_type": "markdown",
   "metadata": {},
   "source": [
    "**Exploratory Data Analysis** of original (Not fixed) dataset."
   ]
  },
  {
   "cell_type": "code",
   "execution_count": 8,
   "metadata": {},
   "outputs": [
    {
     "data": {
      "text/plain": [
       "4000"
      ]
     },
     "execution_count": 8,
     "metadata": {},
     "output_type": "execute_result"
    }
   ],
   "source": [
    "# Calculating mean length of the dataframe (NOT fixed)\n",
    "\n",
    "def calc_len(folder_tree):\n",
    "    length_list = []\n",
    "    for i in folder_tree.values():\n",
    "            for j in i.values():\n",
    "                for path in j:\n",
    "                    dataframe = pd.read_csv(path)\n",
    "                    length_list.append(dataframe.shape[-1])\n",
    "    return length_list\n",
    "\n",
    "length_list = calc_len(classes_data)\n",
    "\n",
    "len(length_list)"
   ]
  },
  {
   "cell_type": "code",
   "execution_count": 9,
   "metadata": {},
   "outputs": [
    {
     "name": "stdout",
     "output_type": "stream",
     "text": [
      "Mean trial length in Original Dataset - 753.51575\n"
     ]
    }
   ],
   "source": [
    "print(f'Mean trial length in Original Dataset - {np.mean(length_list)}')"
   ]
  },
  {
   "attachments": {},
   "cell_type": "markdown",
   "metadata": {},
   "source": [
    "So, the average lenght of a trial is a bit more 750."
   ]
  },
  {
   "cell_type": "code",
   "execution_count": 10,
   "metadata": {},
   "outputs": [
    {
     "data": {
      "text/html": [
       "<div>\n",
       "<style scoped>\n",
       "    .dataframe tbody tr th:only-of-type {\n",
       "        vertical-align: middle;\n",
       "    }\n",
       "\n",
       "    .dataframe tbody tr th {\n",
       "        vertical-align: top;\n",
       "    }\n",
       "\n",
       "    .dataframe thead th {\n",
       "        text-align: right;\n",
       "    }\n",
       "</style>\n",
       "<table border=\"1\" class=\"dataframe\">\n",
       "  <thead>\n",
       "    <tr style=\"text-align: right;\">\n",
       "      <th></th>\n",
       "      <th>0</th>\n",
       "    </tr>\n",
       "  </thead>\n",
       "  <tbody>\n",
       "    <tr>\n",
       "      <th>count</th>\n",
       "      <td>4000.000000</td>\n",
       "    </tr>\n",
       "    <tr>\n",
       "      <th>mean</th>\n",
       "      <td>753.515750</td>\n",
       "    </tr>\n",
       "    <tr>\n",
       "      <th>std</th>\n",
       "      <td>92.310043</td>\n",
       "    </tr>\n",
       "    <tr>\n",
       "      <th>min</th>\n",
       "      <td>523.000000</td>\n",
       "    </tr>\n",
       "    <tr>\n",
       "      <th>25%</th>\n",
       "      <td>686.000000</td>\n",
       "    </tr>\n",
       "    <tr>\n",
       "      <th>50%</th>\n",
       "      <td>726.000000</td>\n",
       "    </tr>\n",
       "    <tr>\n",
       "      <th>75%</th>\n",
       "      <td>795.000000</td>\n",
       "    </tr>\n",
       "    <tr>\n",
       "      <th>max</th>\n",
       "      <td>1438.000000</td>\n",
       "    </tr>\n",
       "  </tbody>\n",
       "</table>\n",
       "</div>"
      ],
      "text/plain": [
       "                 0\n",
       "count  4000.000000\n",
       "mean    753.515750\n",
       "std      92.310043\n",
       "min     523.000000\n",
       "25%     686.000000\n",
       "50%     726.000000\n",
       "75%     795.000000\n",
       "max    1438.000000"
      ]
     },
     "execution_count": 10,
     "metadata": {},
     "output_type": "execute_result"
    }
   ],
   "source": [
    "length_df = pd.DataFrame(length_list)\n",
    "length_df.describe()"
   ]
  },
  {
   "attachments": {},
   "cell_type": "markdown",
   "metadata": {},
   "source": [
    "**So, using maxlen of 1600 was a MISTAKE !** 1500 is enought!"
   ]
  },
  {
   "cell_type": "code",
   "execution_count": 11,
   "metadata": {},
   "outputs": [
    {
     "data": {
      "text/plain": [
       "4000"
      ]
     },
     "execution_count": 11,
     "metadata": {},
     "output_type": "execute_result"
    }
   ],
   "source": [
    "# Analyzing mean value\n",
    "\n",
    "def analyze_mean(classes_data:dict):\n",
    "    mean_value_dict = {key:[] for key in range(0,31) }\n",
    "    for i in classes_data.values():\n",
    "        for j in i.values():\n",
    "            for path in j:\n",
    "                dataframe = pd.read_csv(path)\n",
    "                dataframe = prefix_df(dataframe)\n",
    "                for k in range(0,31):\n",
    "                    mean_value_dict[k].append(dataframe[k].mean())\n",
    "    return mean_value_dict\n",
    "\n",
    "mean_value_dict = analyze_mean(classes_data = classes_data)\n",
    "\n",
    "len(mean_value_dict[0])"
   ]
  },
  {
   "cell_type": "code",
   "execution_count": 12,
   "metadata": {},
   "outputs": [
    {
     "data": {
      "text/plain": [
       "(4000, 31)"
      ]
     },
     "execution_count": 12,
     "metadata": {},
     "output_type": "execute_result"
    }
   ],
   "source": [
    "mean_value_df = pd.DataFrame.from_dict(mean_value_dict)\n",
    "mean_value_df.shape"
   ]
  },
  {
   "cell_type": "code",
   "execution_count": 13,
   "metadata": {},
   "outputs": [
    {
     "name": "stdout",
     "output_type": "stream",
     "text": [
      "<class 'pandas.core.frame.DataFrame'>\n",
      "RangeIndex: 4000 entries, 0 to 3999\n",
      "Data columns (total 31 columns):\n",
      " #   Column  Non-Null Count  Dtype  \n",
      "---  ------  --------------  -----  \n",
      " 0   0       4000 non-null   float64\n",
      " 1   1       4000 non-null   float64\n",
      " 2   2       4000 non-null   float64\n",
      " 3   3       4000 non-null   float64\n",
      " 4   4       4000 non-null   float64\n",
      " 5   5       4000 non-null   float64\n",
      " 6   6       4000 non-null   float64\n",
      " 7   7       4000 non-null   float64\n",
      " 8   8       4000 non-null   float64\n",
      " 9   9       4000 non-null   float64\n",
      " 10  10      4000 non-null   float64\n",
      " 11  11      4000 non-null   float64\n",
      " 12  12      4000 non-null   float64\n",
      " 13  13      4000 non-null   float64\n",
      " 14  14      4000 non-null   float64\n",
      " 15  15      4000 non-null   float64\n",
      " 16  16      4000 non-null   float64\n",
      " 17  17      4000 non-null   float64\n",
      " 18  18      4000 non-null   float64\n",
      " 19  19      4000 non-null   float64\n",
      " 20  20      4000 non-null   float64\n",
      " 21  21      4000 non-null   float64\n",
      " 22  22      4000 non-null   float64\n",
      " 23  23      4000 non-null   float64\n",
      " 24  24      4000 non-null   float64\n",
      " 25  25      4000 non-null   float64\n",
      " 26  26      4000 non-null   float64\n",
      " 27  27      4000 non-null   float64\n",
      " 28  28      4000 non-null   float64\n",
      " 29  29      4000 non-null   float64\n",
      " 30  30      4000 non-null   float64\n",
      "dtypes: float64(31)\n",
      "memory usage: 968.9 KB\n"
     ]
    }
   ],
   "source": [
    "mean_value_df.info()"
   ]
  },
  {
   "cell_type": "code",
   "execution_count": 14,
   "metadata": {},
   "outputs": [
    {
     "data": {
      "text/html": [
       "<div>\n",
       "<style scoped>\n",
       "    .dataframe tbody tr th:only-of-type {\n",
       "        vertical-align: middle;\n",
       "    }\n",
       "\n",
       "    .dataframe tbody tr th {\n",
       "        vertical-align: top;\n",
       "    }\n",
       "\n",
       "    .dataframe thead th {\n",
       "        text-align: right;\n",
       "    }\n",
       "</style>\n",
       "<table border=\"1\" class=\"dataframe\">\n",
       "  <thead>\n",
       "    <tr style=\"text-align: right;\">\n",
       "      <th></th>\n",
       "      <th>0</th>\n",
       "      <th>1</th>\n",
       "      <th>2</th>\n",
       "      <th>3</th>\n",
       "      <th>4</th>\n",
       "      <th>5</th>\n",
       "      <th>6</th>\n",
       "      <th>7</th>\n",
       "      <th>8</th>\n",
       "      <th>9</th>\n",
       "      <th>...</th>\n",
       "      <th>21</th>\n",
       "      <th>22</th>\n",
       "      <th>23</th>\n",
       "      <th>24</th>\n",
       "      <th>25</th>\n",
       "      <th>26</th>\n",
       "      <th>27</th>\n",
       "      <th>28</th>\n",
       "      <th>29</th>\n",
       "      <th>30</th>\n",
       "    </tr>\n",
       "  </thead>\n",
       "  <tbody>\n",
       "    <tr>\n",
       "      <th>count</th>\n",
       "      <td>4000.000000</td>\n",
       "      <td>4000.000000</td>\n",
       "      <td>4000.000000</td>\n",
       "      <td>4000.000000</td>\n",
       "      <td>4000.000000</td>\n",
       "      <td>4000.000000</td>\n",
       "      <td>4000.000000</td>\n",
       "      <td>4000.000000</td>\n",
       "      <td>4000.000000</td>\n",
       "      <td>4000.000000</td>\n",
       "      <td>...</td>\n",
       "      <td>4000.000000</td>\n",
       "      <td>4000.000000</td>\n",
       "      <td>4000.000000</td>\n",
       "      <td>4000.000000</td>\n",
       "      <td>4000.000000</td>\n",
       "      <td>4000.000000</td>\n",
       "      <td>4000.000000</td>\n",
       "      <td>4000.000000</td>\n",
       "      <td>4000.000000</td>\n",
       "      <td>4000.000000</td>\n",
       "    </tr>\n",
       "    <tr>\n",
       "      <th>mean</th>\n",
       "      <td>0.154133</td>\n",
       "      <td>0.631962</td>\n",
       "      <td>0.384527</td>\n",
       "      <td>0.681922</td>\n",
       "      <td>-0.407398</td>\n",
       "      <td>-0.382884</td>\n",
       "      <td>-0.389077</td>\n",
       "      <td>-0.779942</td>\n",
       "      <td>-0.823101</td>\n",
       "      <td>-0.992245</td>\n",
       "      <td>...</td>\n",
       "      <td>-0.583999</td>\n",
       "      <td>-0.590345</td>\n",
       "      <td>-0.101110</td>\n",
       "      <td>-0.499566</td>\n",
       "      <td>-0.558685</td>\n",
       "      <td>-0.258905</td>\n",
       "      <td>0.113703</td>\n",
       "      <td>0.153763</td>\n",
       "      <td>-0.052569</td>\n",
       "      <td>-0.192344</td>\n",
       "    </tr>\n",
       "    <tr>\n",
       "      <th>std</th>\n",
       "      <td>9.364976</td>\n",
       "      <td>7.981514</td>\n",
       "      <td>12.179935</td>\n",
       "      <td>7.196085</td>\n",
       "      <td>6.166092</td>\n",
       "      <td>4.658057</td>\n",
       "      <td>7.538777</td>\n",
       "      <td>7.686071</td>\n",
       "      <td>13.332260</td>\n",
       "      <td>15.637490</td>\n",
       "      <td>...</td>\n",
       "      <td>5.863318</td>\n",
       "      <td>5.925760</td>\n",
       "      <td>5.536659</td>\n",
       "      <td>5.969458</td>\n",
       "      <td>7.211810</td>\n",
       "      <td>5.770017</td>\n",
       "      <td>6.889838</td>\n",
       "      <td>10.554924</td>\n",
       "      <td>6.538321</td>\n",
       "      <td>4.284639</td>\n",
       "    </tr>\n",
       "    <tr>\n",
       "      <th>min</th>\n",
       "      <td>-293.335012</td>\n",
       "      <td>-82.055819</td>\n",
       "      <td>-698.053474</td>\n",
       "      <td>-71.907215</td>\n",
       "      <td>-87.980678</td>\n",
       "      <td>-32.716988</td>\n",
       "      <td>-110.848309</td>\n",
       "      <td>-79.581653</td>\n",
       "      <td>-133.750726</td>\n",
       "      <td>-186.960090</td>\n",
       "      <td>...</td>\n",
       "      <td>-65.482560</td>\n",
       "      <td>-53.723935</td>\n",
       "      <td>-42.206361</td>\n",
       "      <td>-49.380365</td>\n",
       "      <td>-78.978398</td>\n",
       "      <td>-64.818762</td>\n",
       "      <td>-98.295940</td>\n",
       "      <td>-422.916369</td>\n",
       "      <td>-88.489108</td>\n",
       "      <td>-53.459643</td>\n",
       "    </tr>\n",
       "    <tr>\n",
       "      <th>25%</th>\n",
       "      <td>-1.637160</td>\n",
       "      <td>-1.550245</td>\n",
       "      <td>-1.860815</td>\n",
       "      <td>-2.086000</td>\n",
       "      <td>-2.814175</td>\n",
       "      <td>-2.638467</td>\n",
       "      <td>-2.891382</td>\n",
       "      <td>-3.296282</td>\n",
       "      <td>-3.518260</td>\n",
       "      <td>-4.174506</td>\n",
       "      <td>...</td>\n",
       "      <td>-2.403102</td>\n",
       "      <td>-2.878707</td>\n",
       "      <td>-3.103266</td>\n",
       "      <td>-2.890701</td>\n",
       "      <td>-2.579325</td>\n",
       "      <td>-1.924929</td>\n",
       "      <td>-2.261241</td>\n",
       "      <td>-2.532849</td>\n",
       "      <td>-2.308430</td>\n",
       "      <td>-1.875514</td>\n",
       "    </tr>\n",
       "    <tr>\n",
       "      <th>50%</th>\n",
       "      <td>0.440034</td>\n",
       "      <td>0.523899</td>\n",
       "      <td>0.640158</td>\n",
       "      <td>0.605557</td>\n",
       "      <td>-0.352208</td>\n",
       "      <td>-0.374415</td>\n",
       "      <td>-0.396430</td>\n",
       "      <td>-0.508000</td>\n",
       "      <td>-0.462160</td>\n",
       "      <td>-0.617167</td>\n",
       "      <td>...</td>\n",
       "      <td>-0.369361</td>\n",
       "      <td>-0.468896</td>\n",
       "      <td>-0.129581</td>\n",
       "      <td>-0.336268</td>\n",
       "      <td>-0.523236</td>\n",
       "      <td>-0.084015</td>\n",
       "      <td>0.141025</td>\n",
       "      <td>0.323373</td>\n",
       "      <td>0.039213</td>\n",
       "      <td>-0.060393</td>\n",
       "    </tr>\n",
       "    <tr>\n",
       "      <th>75%</th>\n",
       "      <td>2.562277</td>\n",
       "      <td>2.719544</td>\n",
       "      <td>3.124651</td>\n",
       "      <td>3.211678</td>\n",
       "      <td>1.981446</td>\n",
       "      <td>1.854122</td>\n",
       "      <td>2.044512</td>\n",
       "      <td>2.159529</td>\n",
       "      <td>2.494097</td>\n",
       "      <td>2.760010</td>\n",
       "      <td>...</td>\n",
       "      <td>1.563198</td>\n",
       "      <td>1.755516</td>\n",
       "      <td>2.754337</td>\n",
       "      <td>1.904056</td>\n",
       "      <td>1.539822</td>\n",
       "      <td>1.727683</td>\n",
       "      <td>2.366314</td>\n",
       "      <td>3.076322</td>\n",
       "      <td>2.419318</td>\n",
       "      <td>1.710071</td>\n",
       "    </tr>\n",
       "    <tr>\n",
       "      <th>max</th>\n",
       "      <td>81.392843</td>\n",
       "      <td>153.510170</td>\n",
       "      <td>53.053846</td>\n",
       "      <td>105.128061</td>\n",
       "      <td>86.275331</td>\n",
       "      <td>49.514409</td>\n",
       "      <td>160.801270</td>\n",
       "      <td>81.392324</td>\n",
       "      <td>227.266051</td>\n",
       "      <td>267.523862</td>\n",
       "      <td>...</td>\n",
       "      <td>51.216221</td>\n",
       "      <td>63.942665</td>\n",
       "      <td>53.164380</td>\n",
       "      <td>70.863807</td>\n",
       "      <td>183.730361</td>\n",
       "      <td>55.679172</td>\n",
       "      <td>106.659832</td>\n",
       "      <td>199.294338</td>\n",
       "      <td>104.151937</td>\n",
       "      <td>54.283138</td>\n",
       "    </tr>\n",
       "  </tbody>\n",
       "</table>\n",
       "<p>8 rows × 31 columns</p>\n",
       "</div>"
      ],
      "text/plain": [
       "                0            1            2            3            4   \\\n",
       "count  4000.000000  4000.000000  4000.000000  4000.000000  4000.000000   \n",
       "mean      0.154133     0.631962     0.384527     0.681922    -0.407398   \n",
       "std       9.364976     7.981514    12.179935     7.196085     6.166092   \n",
       "min    -293.335012   -82.055819  -698.053474   -71.907215   -87.980678   \n",
       "25%      -1.637160    -1.550245    -1.860815    -2.086000    -2.814175   \n",
       "50%       0.440034     0.523899     0.640158     0.605557    -0.352208   \n",
       "75%       2.562277     2.719544     3.124651     3.211678     1.981446   \n",
       "max      81.392843   153.510170    53.053846   105.128061    86.275331   \n",
       "\n",
       "                5            6            7            8            9   ...  \\\n",
       "count  4000.000000  4000.000000  4000.000000  4000.000000  4000.000000  ...   \n",
       "mean     -0.382884    -0.389077    -0.779942    -0.823101    -0.992245  ...   \n",
       "std       4.658057     7.538777     7.686071    13.332260    15.637490  ...   \n",
       "min     -32.716988  -110.848309   -79.581653  -133.750726  -186.960090  ...   \n",
       "25%      -2.638467    -2.891382    -3.296282    -3.518260    -4.174506  ...   \n",
       "50%      -0.374415    -0.396430    -0.508000    -0.462160    -0.617167  ...   \n",
       "75%       1.854122     2.044512     2.159529     2.494097     2.760010  ...   \n",
       "max      49.514409   160.801270    81.392324   227.266051   267.523862  ...   \n",
       "\n",
       "                21           22           23           24           25  \\\n",
       "count  4000.000000  4000.000000  4000.000000  4000.000000  4000.000000   \n",
       "mean     -0.583999    -0.590345    -0.101110    -0.499566    -0.558685   \n",
       "std       5.863318     5.925760     5.536659     5.969458     7.211810   \n",
       "min     -65.482560   -53.723935   -42.206361   -49.380365   -78.978398   \n",
       "25%      -2.403102    -2.878707    -3.103266    -2.890701    -2.579325   \n",
       "50%      -0.369361    -0.468896    -0.129581    -0.336268    -0.523236   \n",
       "75%       1.563198     1.755516     2.754337     1.904056     1.539822   \n",
       "max      51.216221    63.942665    53.164380    70.863807   183.730361   \n",
       "\n",
       "                26           27           28           29           30  \n",
       "count  4000.000000  4000.000000  4000.000000  4000.000000  4000.000000  \n",
       "mean     -0.258905     0.113703     0.153763    -0.052569    -0.192344  \n",
       "std       5.770017     6.889838    10.554924     6.538321     4.284639  \n",
       "min     -64.818762   -98.295940  -422.916369   -88.489108   -53.459643  \n",
       "25%      -1.924929    -2.261241    -2.532849    -2.308430    -1.875514  \n",
       "50%      -0.084015     0.141025     0.323373     0.039213    -0.060393  \n",
       "75%       1.727683     2.366314     3.076322     2.419318     1.710071  \n",
       "max      55.679172   106.659832   199.294338   104.151937    54.283138  \n",
       "\n",
       "[8 rows x 31 columns]"
      ]
     },
     "execution_count": 14,
     "metadata": {},
     "output_type": "execute_result"
    }
   ],
   "source": [
    "# Description of MEAN value df\n",
    "mean_value_df.describe()"
   ]
  },
  {
   "attachments": {},
   "cell_type": "markdown",
   "metadata": {},
   "source": [
    "Let's apply **Robust Scaler** to the original data"
   ]
  },
  {
   "cell_type": "code",
   "execution_count": 15,
   "metadata": {},
   "outputs": [],
   "source": [
    "scaled_path = 'Scaled NeuroScience Data'\n",
    "\n",
    "scaled_classes_data = {}\n",
    "scaled_classes_data = form_data_tree(rootdir = scaled_path, classes_data = scaled_classes_data)\n",
    "scaler = RobustScaler()\n",
    "\n",
    "def scale(data_tree: dict, is_fixed: bool, scaler):\n",
    "    '''\n",
    "        Applies scaler to whole folder\n",
    "    of .csv files.\n",
    "    '''\n",
    "    for i in data_tree.values():\n",
    "        for j in i.values():\n",
    "            for path in j:\n",
    "                dataframe = pd.read_csv(path)\n",
    "                if is_fixed == False:\n",
    "                    dataframe = prefix_df(dataframe)\n",
    "                dataframe = scaler.fit_transform(dataframe)\n",
    "                dataframe = pd.DataFrame(dataframe)\n",
    "                os.remove(path)\n",
    "                dataframe.to_csv(path_or_buf=path, index=False)\n",
    "\n",
    "# scale(data_tree = scaled_classes_data, is_fixed = False, scaler = scaler)         "
   ]
  },
  {
   "cell_type": "code",
   "execution_count": 16,
   "metadata": {},
   "outputs": [
    {
     "data": {
      "text/plain": [
       "4000"
      ]
     },
     "execution_count": 16,
     "metadata": {},
     "output_type": "execute_result"
    }
   ],
   "source": [
    "# Analyzing mean value\n",
    "\n",
    "mean_value_dict = analyze_mean(classes_data=scaled_classes_data)\n",
    "\n",
    "len(mean_value_dict[0])"
   ]
  },
  {
   "cell_type": "code",
   "execution_count": 17,
   "metadata": {},
   "outputs": [
    {
     "data": {
      "text/html": [
       "<div>\n",
       "<style scoped>\n",
       "    .dataframe tbody tr th:only-of-type {\n",
       "        vertical-align: middle;\n",
       "    }\n",
       "\n",
       "    .dataframe tbody tr th {\n",
       "        vertical-align: top;\n",
       "    }\n",
       "\n",
       "    .dataframe thead th {\n",
       "        text-align: right;\n",
       "    }\n",
       "</style>\n",
       "<table border=\"1\" class=\"dataframe\">\n",
       "  <thead>\n",
       "    <tr style=\"text-align: right;\">\n",
       "      <th></th>\n",
       "      <th>0</th>\n",
       "      <th>1</th>\n",
       "      <th>2</th>\n",
       "      <th>3</th>\n",
       "      <th>4</th>\n",
       "      <th>5</th>\n",
       "      <th>6</th>\n",
       "      <th>7</th>\n",
       "      <th>8</th>\n",
       "      <th>9</th>\n",
       "      <th>...</th>\n",
       "      <th>21</th>\n",
       "      <th>22</th>\n",
       "      <th>23</th>\n",
       "      <th>24</th>\n",
       "      <th>25</th>\n",
       "      <th>26</th>\n",
       "      <th>27</th>\n",
       "      <th>28</th>\n",
       "      <th>29</th>\n",
       "      <th>30</th>\n",
       "    </tr>\n",
       "  </thead>\n",
       "  <tbody>\n",
       "    <tr>\n",
       "      <th>count</th>\n",
       "      <td>4000.0</td>\n",
       "      <td>4000.000000</td>\n",
       "      <td>4000.000000</td>\n",
       "      <td>4000.000000</td>\n",
       "      <td>4000.000000</td>\n",
       "      <td>4000.000000</td>\n",
       "      <td>4000.000000</td>\n",
       "      <td>4000.000000</td>\n",
       "      <td>4000.000000</td>\n",
       "      <td>4000.000000</td>\n",
       "      <td>...</td>\n",
       "      <td>4000.000000</td>\n",
       "      <td>4000.000000</td>\n",
       "      <td>4000.000000</td>\n",
       "      <td>4000.000000</td>\n",
       "      <td>4000.000000</td>\n",
       "      <td>4000.000000</td>\n",
       "      <td>4000.000000</td>\n",
       "      <td>4000.000000</td>\n",
       "      <td>4000.000000</td>\n",
       "      <td>4000.000000</td>\n",
       "    </tr>\n",
       "    <tr>\n",
       "      <th>mean</th>\n",
       "      <td>15.0</td>\n",
       "      <td>0.001077</td>\n",
       "      <td>0.002685</td>\n",
       "      <td>0.004679</td>\n",
       "      <td>0.006253</td>\n",
       "      <td>0.006939</td>\n",
       "      <td>0.006724</td>\n",
       "      <td>0.005784</td>\n",
       "      <td>0.004119</td>\n",
       "      <td>0.001530</td>\n",
       "      <td>...</td>\n",
       "      <td>-0.007640</td>\n",
       "      <td>-0.008264</td>\n",
       "      <td>-0.006234</td>\n",
       "      <td>-0.002764</td>\n",
       "      <td>0.000609</td>\n",
       "      <td>0.002989</td>\n",
       "      <td>0.004364</td>\n",
       "      <td>0.005225</td>\n",
       "      <td>0.006159</td>\n",
       "      <td>0.007410</td>\n",
       "    </tr>\n",
       "    <tr>\n",
       "      <th>std</th>\n",
       "      <td>0.0</td>\n",
       "      <td>0.518557</td>\n",
       "      <td>0.517185</td>\n",
       "      <td>0.517267</td>\n",
       "      <td>0.517031</td>\n",
       "      <td>0.515743</td>\n",
       "      <td>0.514120</td>\n",
       "      <td>0.512756</td>\n",
       "      <td>0.511732</td>\n",
       "      <td>0.511282</td>\n",
       "      <td>...</td>\n",
       "      <td>0.504817</td>\n",
       "      <td>0.507003</td>\n",
       "      <td>0.509735</td>\n",
       "      <td>0.509670</td>\n",
       "      <td>0.507161</td>\n",
       "      <td>0.506125</td>\n",
       "      <td>0.507730</td>\n",
       "      <td>0.509196</td>\n",
       "      <td>0.508796</td>\n",
       "      <td>0.508575</td>\n",
       "    </tr>\n",
       "    <tr>\n",
       "      <th>min</th>\n",
       "      <td>15.0</td>\n",
       "      <td>-2.713557</td>\n",
       "      <td>-2.557300</td>\n",
       "      <td>-2.538022</td>\n",
       "      <td>-2.550379</td>\n",
       "      <td>-2.449986</td>\n",
       "      <td>-2.353582</td>\n",
       "      <td>-2.637953</td>\n",
       "      <td>-2.661359</td>\n",
       "      <td>-3.640480</td>\n",
       "      <td>...</td>\n",
       "      <td>-2.261268</td>\n",
       "      <td>-2.570341</td>\n",
       "      <td>-3.096574</td>\n",
       "      <td>-3.523317</td>\n",
       "      <td>-3.193648</td>\n",
       "      <td>-2.455635</td>\n",
       "      <td>-2.539223</td>\n",
       "      <td>-2.517105</td>\n",
       "      <td>-2.386607</td>\n",
       "      <td>-2.210557</td>\n",
       "    </tr>\n",
       "    <tr>\n",
       "      <th>25%</th>\n",
       "      <td>15.0</td>\n",
       "      <td>-0.328713</td>\n",
       "      <td>-0.329448</td>\n",
       "      <td>-0.317832</td>\n",
       "      <td>-0.320112</td>\n",
       "      <td>-0.315101</td>\n",
       "      <td>-0.317002</td>\n",
       "      <td>-0.317101</td>\n",
       "      <td>-0.309497</td>\n",
       "      <td>-0.316514</td>\n",
       "      <td>...</td>\n",
       "      <td>-0.332715</td>\n",
       "      <td>-0.329579</td>\n",
       "      <td>-0.332729</td>\n",
       "      <td>-0.329010</td>\n",
       "      <td>-0.323612</td>\n",
       "      <td>-0.323711</td>\n",
       "      <td>-0.320464</td>\n",
       "      <td>-0.322545</td>\n",
       "      <td>-0.324867</td>\n",
       "      <td>-0.314301</td>\n",
       "    </tr>\n",
       "    <tr>\n",
       "      <th>50%</th>\n",
       "      <td>15.0</td>\n",
       "      <td>0.003951</td>\n",
       "      <td>0.006885</td>\n",
       "      <td>0.003547</td>\n",
       "      <td>-0.001856</td>\n",
       "      <td>-0.005377</td>\n",
       "      <td>0.000526</td>\n",
       "      <td>0.001841</td>\n",
       "      <td>0.004634</td>\n",
       "      <td>0.002888</td>\n",
       "      <td>...</td>\n",
       "      <td>-0.010647</td>\n",
       "      <td>-0.012151</td>\n",
       "      <td>0.001780</td>\n",
       "      <td>0.000676</td>\n",
       "      <td>0.006782</td>\n",
       "      <td>0.015306</td>\n",
       "      <td>0.008480</td>\n",
       "      <td>0.015968</td>\n",
       "      <td>0.009785</td>\n",
       "      <td>0.010236</td>\n",
       "    </tr>\n",
       "    <tr>\n",
       "      <th>75%</th>\n",
       "      <td>15.0</td>\n",
       "      <td>0.339922</td>\n",
       "      <td>0.328249</td>\n",
       "      <td>0.330558</td>\n",
       "      <td>0.336866</td>\n",
       "      <td>0.337414</td>\n",
       "      <td>0.333875</td>\n",
       "      <td>0.333623</td>\n",
       "      <td>0.326776</td>\n",
       "      <td>0.325235</td>\n",
       "      <td>...</td>\n",
       "      <td>0.321372</td>\n",
       "      <td>0.318422</td>\n",
       "      <td>0.322607</td>\n",
       "      <td>0.326170</td>\n",
       "      <td>0.318626</td>\n",
       "      <td>0.326093</td>\n",
       "      <td>0.321790</td>\n",
       "      <td>0.326925</td>\n",
       "      <td>0.329795</td>\n",
       "      <td>0.325670</td>\n",
       "    </tr>\n",
       "    <tr>\n",
       "      <th>max</th>\n",
       "      <td>15.0</td>\n",
       "      <td>3.094014</td>\n",
       "      <td>2.983935</td>\n",
       "      <td>2.778666</td>\n",
       "      <td>2.746369</td>\n",
       "      <td>2.344475</td>\n",
       "      <td>2.415844</td>\n",
       "      <td>2.273476</td>\n",
       "      <td>2.219060</td>\n",
       "      <td>2.374896</td>\n",
       "      <td>...</td>\n",
       "      <td>2.469884</td>\n",
       "      <td>3.203322</td>\n",
       "      <td>3.945725</td>\n",
       "      <td>4.494943</td>\n",
       "      <td>4.683987</td>\n",
       "      <td>4.472529</td>\n",
       "      <td>3.999870</td>\n",
       "      <td>3.525868</td>\n",
       "      <td>3.273199</td>\n",
       "      <td>3.282234</td>\n",
       "    </tr>\n",
       "  </tbody>\n",
       "</table>\n",
       "<p>8 rows × 31 columns</p>\n",
       "</div>"
      ],
      "text/plain": [
       "           0            1            2            3            4   \\\n",
       "count  4000.0  4000.000000  4000.000000  4000.000000  4000.000000   \n",
       "mean     15.0     0.001077     0.002685     0.004679     0.006253   \n",
       "std       0.0     0.518557     0.517185     0.517267     0.517031   \n",
       "min      15.0    -2.713557    -2.557300    -2.538022    -2.550379   \n",
       "25%      15.0    -0.328713    -0.329448    -0.317832    -0.320112   \n",
       "50%      15.0     0.003951     0.006885     0.003547    -0.001856   \n",
       "75%      15.0     0.339922     0.328249     0.330558     0.336866   \n",
       "max      15.0     3.094014     2.983935     2.778666     2.746369   \n",
       "\n",
       "                5            6            7            8            9   ...  \\\n",
       "count  4000.000000  4000.000000  4000.000000  4000.000000  4000.000000  ...   \n",
       "mean      0.006939     0.006724     0.005784     0.004119     0.001530  ...   \n",
       "std       0.515743     0.514120     0.512756     0.511732     0.511282  ...   \n",
       "min      -2.449986    -2.353582    -2.637953    -2.661359    -3.640480  ...   \n",
       "25%      -0.315101    -0.317002    -0.317101    -0.309497    -0.316514  ...   \n",
       "50%      -0.005377     0.000526     0.001841     0.004634     0.002888  ...   \n",
       "75%       0.337414     0.333875     0.333623     0.326776     0.325235  ...   \n",
       "max       2.344475     2.415844     2.273476     2.219060     2.374896  ...   \n",
       "\n",
       "                21           22           23           24           25  \\\n",
       "count  4000.000000  4000.000000  4000.000000  4000.000000  4000.000000   \n",
       "mean     -0.007640    -0.008264    -0.006234    -0.002764     0.000609   \n",
       "std       0.504817     0.507003     0.509735     0.509670     0.507161   \n",
       "min      -2.261268    -2.570341    -3.096574    -3.523317    -3.193648   \n",
       "25%      -0.332715    -0.329579    -0.332729    -0.329010    -0.323612   \n",
       "50%      -0.010647    -0.012151     0.001780     0.000676     0.006782   \n",
       "75%       0.321372     0.318422     0.322607     0.326170     0.318626   \n",
       "max       2.469884     3.203322     3.945725     4.494943     4.683987   \n",
       "\n",
       "                26           27           28           29           30  \n",
       "count  4000.000000  4000.000000  4000.000000  4000.000000  4000.000000  \n",
       "mean      0.002989     0.004364     0.005225     0.006159     0.007410  \n",
       "std       0.506125     0.507730     0.509196     0.508796     0.508575  \n",
       "min      -2.455635    -2.539223    -2.517105    -2.386607    -2.210557  \n",
       "25%      -0.323711    -0.320464    -0.322545    -0.324867    -0.314301  \n",
       "50%       0.015306     0.008480     0.015968     0.009785     0.010236  \n",
       "75%       0.326093     0.321790     0.326925     0.329795     0.325670  \n",
       "max       4.472529     3.999870     3.525868     3.273199     3.282234  \n",
       "\n",
       "[8 rows x 31 columns]"
      ]
     },
     "execution_count": 17,
     "metadata": {},
     "output_type": "execute_result"
    }
   ],
   "source": [
    "mean_value_df = pd.DataFrame.from_dict(mean_value_dict)\n",
    "mean_value_df.describe()\n",
    "\n",
    "# Probably, [0] columns is a mistake"
   ]
  },
  {
   "attachments": {},
   "cell_type": "markdown",
   "metadata": {},
   "source": [
    "Unifiing the length of dataframe."
   ]
  },
  {
   "cell_type": "code",
   "execution_count": 18,
   "metadata": {},
   "outputs": [],
   "source": [
    "# Rereading dataframe\n",
    "df = pd.read_csv(classes_data[\"a15\"][1][0])\n",
    "\n",
    "# This constants have been calculated before\n",
    "MAX_LEN = 1500\n",
    "LONGEST_FILE_PATH = \"NeuroScience Data/a15/a15_14_101.csv\"\n"
   ]
  },
  {
   "cell_type": "code",
   "execution_count": 19,
   "metadata": {},
   "outputs": [],
   "source": [
    "# function for making zero lists of n length\n",
    "\n",
    "def zerolistmaker(n):\n",
    "    listofzeros = [0] * n\n",
    "    return listofzeros\n",
    "\n",
    "# main preprocessing function\n",
    "\n",
    "\n",
    "def fix_df(df: pd.DataFrame, zero_list_function, MAX_LEN: int):\n",
    "\n",
    "    # transposing and setting correct index names\n",
    "    df = df.T\n",
    "    correct_indexes = [i+1 for i in range(len(df.columns))]\n",
    "    df.columns = correct_indexes\n",
    "    df[0] = df.index\n",
    "    df = df.reset_index()\n",
    "\n",
    "    # removing ['index'] column, setting the correct datatype and element order\n",
    "    df = df.drop(['index'], axis=1)\n",
    "    correct_indexes = df.columns.to_list()\n",
    "    correct_indexes = correct_indexes[-1:] + correct_indexes[:-1]\n",
    "    df = df[correct_indexes]\n",
    "\n",
    "    # In case of errors='coerce', error-cell will\n",
    "    # be turned into nan. Then it will be handled\n",
    "\n",
    "    df[0] = pd.to_numeric(df[0], errors='coerce')\n",
    "    df = df.fillna(df.mean())\n",
    "\n",
    "    # ADD EXTRA ROWS HERE\n",
    "    foundation = [zero_list_function(31) for i in range(MAX_LEN - len(df))]\n",
    "    foundation = pd.DataFrame(foundation)\n",
    "    df = df.append(foundation, ignore_index=True)\n",
    "\n",
    "    return df\n"
   ]
  },
  {
   "cell_type": "code",
   "execution_count": 20,
   "metadata": {},
   "outputs": [
    {
     "data": {
      "text/plain": [
       "(696, 31)"
      ]
     },
     "execution_count": 20,
     "metadata": {},
     "output_type": "execute_result"
    }
   ],
   "source": [
    "# df = fix_df(df, zerolistmaker, MAX_LEN)\n",
    "\n",
    "df = prefix_df(df)\n",
    "df.shape"
   ]
  },
  {
   "attachments": {},
   "cell_type": "markdown",
   "metadata": {},
   "source": [
    "# 2. Dividing exp_trials for fractions"
   ]
  },
  {
   "attachments": {},
   "cell_type": "markdown",
   "metadata": {},
   "source": [
    "### Data splitting:\n",
    "* Divide by 3/5/10.\n",
    "* Filter out empty (or almost empty) files."
   ]
  },
  {
   "cell_type": "code",
   "execution_count": 21,
   "metadata": {},
   "outputs": [],
   "source": [
    "MAX_LEN = 1500\n",
    "\n",
    "data_split_2 = 'NeuroScience Data split/data split 2'\n",
    "data_split_3 = 'NeuroScience Data split/data split 3'\n",
    "data_split_5 = 'NeuroScience Data split/data split 5'\n",
    "data_split_10 = 'NeuroScience Data split/data split 10'\n",
    "\n",
    "classes_split_2 = {}\n",
    "classes_split_3 = {}\n",
    "classes_split_5 = {}\n",
    "classes_split_10 = {}\n"
   ]
  },
  {
   "cell_type": "code",
   "execution_count": 22,
   "metadata": {},
   "outputs": [],
   "source": [
    "def split(a, n):\n",
    "    k, m = divmod(len(a), n)\n",
    "    return (a[i*k+min(i, m):(i+1)*k+min(i+1, m)] for i in range(n))\n",
    "\n",
    "\n",
    "def split_df(df, n,  path, node_list):\n",
    "    '''\n",
    "        example_df = df\n",
    "        n = 3\n",
    "        path = path\n",
    "        path_list = j\n",
    "    '''\n",
    "    seq = np.arange(n)\n",
    "\n",
    "    fractions = list(split(df, n))\n",
    "    for i, j in zip(fractions, seq):\n",
    "        # VERY SIMPLE filtering\n",
    "        if i[0].mean() != 0.0:\n",
    "            new_path = path.split('.csv')[0] + '_' + str(j) + '.csv'\n",
    "            i.to_csv(path_or_buf=new_path, index=False)\n",
    "            node_list.append(new_path)\n",
    "    os.remove(path)\n"
   ]
  },
  {
   "cell_type": "code",
   "execution_count": 23,
   "metadata": {},
   "outputs": [],
   "source": [
    "def split_folder(folder, n):\n",
    "    for i in folder.values():\n",
    "        for j in i.values():\n",
    "            original_j = j\n",
    "            poll = range(len(j))\n",
    "            for k in poll:\n",
    "                df = pd.read_csv(j[k])\n",
    "                df = fix_df(df, zerolistmaker, MAX_LEN)\n",
    "                split_df(df=df, n=n, path=j[k], node_list=j)\n",
    "            for k in original_j:\n",
    "                if k in j:\n",
    "                    j.remove(k)\n"
   ]
  },
  {
   "cell_type": "code",
   "execution_count": 24,
   "metadata": {},
   "outputs": [],
   "source": [
    "def count_dfs(folder_tree):\n",
    "    count = 0\n",
    "    for i in folder_tree.values():\n",
    "        for j in i.values():\n",
    "            for path in j:\n",
    "                count += 1\n",
    "    return count"
   ]
  },
  {
   "cell_type": "code",
   "execution_count": 25,
   "metadata": {},
   "outputs": [
    {
     "name": "stdout",
     "output_type": "stream",
     "text": [
      "Number of .csv files in split 2 BEFORE CLEANING: 4000\n"
     ]
    }
   ],
   "source": [
    "classes_split_2 = form_data_tree(\n",
    "    classes_data=classes_split_2, rootdir=data_split_2)\n",
    "\n",
    "# split_folder(folder=classes_split_2, n=2)\n",
    "\n",
    "classes_split_2 = form_data_tree(\n",
    "    classes_data=classes_split_2, rootdir=data_split_2)\n",
    "\n",
    "count = count_dfs(classes_split_2)\n",
    "\n",
    "print(f'Number of .csv files in split 2 BEFORE CLEANING: {count}')"
   ]
  },
  {
   "cell_type": "code",
   "execution_count": 26,
   "metadata": {},
   "outputs": [],
   "source": [
    "# Removing .csv, that are likely be ALMOST 0\n",
    "\n",
    "def remove_extra(folder_tree, pattern):\n",
    "    for i in folder_tree.values():\n",
    "        for j in i.values():\n",
    "            for path in j:\n",
    "                if path.split('_')[-1][0] == pattern:\n",
    "                    os.remove(path)\n"
   ]
  },
  {
   "cell_type": "code",
   "execution_count": 27,
   "metadata": {},
   "outputs": [
    {
     "name": "stdout",
     "output_type": "stream",
     "text": [
      "Number of .csv files in split 2 AFTER CLEANING: 4000\n",
      "Average length of a path list in split 2: 25.0\n",
      "Length of a .csv in split 2: 750\n"
     ]
    }
   ],
   "source": [
    "# remove_extra(classes_split_2, '1')\n",
    "\n",
    "classes_split_2 = form_data_tree(\n",
    "    classes_data=classes_split_2, rootdir=data_split_2)\n",
    "\n",
    "count_2 = count_dfs(classes_split_2)\n",
    "\n",
    "print(f'Number of .csv files in split 2 AFTER CLEANING: {count_2}')\n",
    "print(f'Average length of a path list in split 2: {count_2 / (20*8)}')\n",
    "print(f'Length of a .csv in split 2: {int(MAX_LEN/2)}')"
   ]
  },
  {
   "cell_type": "code",
   "execution_count": 28,
   "metadata": {},
   "outputs": [
    {
     "name": "stdout",
     "output_type": "stream",
     "text": [
      "Number of .csv files in split 3 BEFORE CLEANING: 8057\n",
      "Average length of a path list in split 3: 50.35625\n",
      "Length of a .csv in split 3: 500\n"
     ]
    }
   ],
   "source": [
    "classes_split_3 = form_data_tree(\n",
    "    classes_data=classes_split_3, rootdir=data_split_3)\n",
    "\n",
    "# split_folder(folder=classes_split_3, n=3)\n",
    "\n",
    "# classes_split_3 = form_data_tree(\n",
    "#     classes_data=classes_split_3, rootdir=data_split_3)\n",
    "\n",
    "count_3 = count_dfs(classes_split_3)\n",
    "\n",
    "print(f'Number of .csv files in split 3 BEFORE CLEANING: {count_3}')\n",
    "print(f'Average length of a path list in split 3: {count_3 / (20*8)}')\n",
    "print(f'Length of a .csv in split 3: {int(MAX_LEN/3)}')\n"
   ]
  },
  {
   "cell_type": "code",
   "execution_count": 29,
   "metadata": {},
   "outputs": [
    {
     "name": "stdout",
     "output_type": "stream",
     "text": [
      "Number of .csv files in split 5 BEFORE CLEANING: 12410\n",
      "Average length of a path list in split 5: 77.5625\n",
      "Length of a .csv in split 5: 300\n"
     ]
    }
   ],
   "source": [
    "classes_split_5 = form_data_tree(\n",
    "    classes_data=classes_split_5, rootdir=data_split_5)\n",
    "\n",
    "# split_folder(folder=classes_split_5, n=5)\n",
    "\n",
    "# classes_split_5 = form_data_tree(\n",
    "#     classes_data=classes_split_5, rootdir=data_split_5)\n",
    "\n",
    "count_5 = count_dfs(classes_split_5)\n",
    "\n",
    "print(f'Number of .csv files in split 5 BEFORE CLEANING: {count_5}')\n",
    "print(f'Average length of a path list in split 5: {count_5 / (20*8)}')\n",
    "print(f'Length of a .csv in split 5: {int(MAX_LEN/5)}')\n"
   ]
  },
  {
   "cell_type": "code",
   "execution_count": 30,
   "metadata": {},
   "outputs": [
    {
     "name": "stdout",
     "output_type": "stream",
     "text": [
      "Number of .csv files in split 10 BEFORE CLEANING: 22003\n",
      "Average length of a path list in split 10: 137.51875\n",
      "Length of a .csv in split 5: 150\n"
     ]
    }
   ],
   "source": [
    "classes_split_10 = form_data_tree(\n",
    "    classes_data=classes_split_10, rootdir=data_split_10)\n",
    "\n",
    "# split_folder(folder=classes_split_10, n=10)\n",
    "\n",
    "# classes_split_10 = form_data_tree(\n",
    "#     classes_data=classes_split_10, rootdir=data_split_10)\n",
    "\n",
    "count_10 = count_dfs(classes_split_10)\n",
    "\n",
    "print(f'Number of .csv files in split 10 BEFORE CLEANING: {count_10}')\n",
    "print(f'Average length of a path list in split 10: {count_10 / (20*8)}')\n",
    "print(f'Length of a .csv in split 5: {int(MAX_LEN/10)}')\n"
   ]
  },
  {
   "attachments": {},
   "cell_type": "markdown",
   "metadata": {},
   "source": [
    "### Scale divided data"
   ]
  },
  {
   "cell_type": "code",
   "execution_count": 31,
   "metadata": {},
   "outputs": [],
   "source": [
    "scaled_split_2 = 'Scaled NeuroScience Data split/data split 2'\n",
    "scaled_split_3 = 'Scaled NeuroScience Data split/data split 3'\n",
    "scaled_split_5 = 'Scaled NeuroScience Data split/data split 5'\n",
    "scaled_split_10 = 'Scaled NeuroScience Data split/data split 10'\n",
    "\n",
    "classes_scaled_2 = {}\n",
    "classes_scaled_3 = {}\n",
    "classes_scaled_5 = {}\n",
    "classes_scaled_10 = {}\n",
    "\n"
   ]
  },
  {
   "cell_type": "code",
   "execution_count": 32,
   "metadata": {},
   "outputs": [],
   "source": [
    "# 2\n",
    "\n",
    "classes_scaled_2 = form_data_tree(rootdir=scaled_split_2, classes_data=classes_scaled_2)\n",
    "\n",
    "# scale(data_tree = classes_scaled_2, is_fixed = True, scaler = scaler)"
   ]
  },
  {
   "cell_type": "code",
   "execution_count": 33,
   "metadata": {},
   "outputs": [],
   "source": [
    "# 3\n",
    "\n",
    "classes_scaled_3 = form_data_tree(rootdir=scaled_split_3, classes_data=classes_scaled_3)\n",
    "\n",
    "# scale(data_tree = classes_scaled_3, is_fixed = True, scaler = scaler)"
   ]
  },
  {
   "cell_type": "code",
   "execution_count": 34,
   "metadata": {},
   "outputs": [],
   "source": [
    "# 5\n",
    "\n",
    "classes_scaled_5 = form_data_tree(rootdir=scaled_split_5, classes_data=classes_scaled_5)\n",
    "\n",
    "# scale(data_tree = classes_scaled_5, is_fixed = True, scaler = scaler)"
   ]
  },
  {
   "cell_type": "code",
   "execution_count": 35,
   "metadata": {},
   "outputs": [],
   "source": [
    "# 10\n",
    "\n",
    "classes_scaled_10 = form_data_tree(rootdir=scaled_split_10, classes_data=classes_scaled_10)\n",
    "\n",
    "# scale(data_tree = classes_scaled_10, is_fixed = True, scaler = scaler)"
   ]
  },
  {
   "attachments": {},
   "cell_type": "markdown",
   "metadata": {},
   "source": [
    "# 3. Custom Cross-Validation and splitting."
   ]
  },
  {
   "attachments": {},
   "cell_type": "markdown",
   "metadata": {},
   "source": [
    "**Making custom 5-fold cross-validation(CV).**"
   ]
  },
  {
   "cell_type": "code",
   "execution_count": 36,
   "metadata": {},
   "outputs": [],
   "source": [
    "def divide_to_folds(folder_tree, files_in_a_tree):\n",
    "\n",
    "    number_of_folds = 5\n",
    "    elements_per_list = files_in_a_tree/(20*8)\n",
    "    part = int(elements_per_list//number_of_folds)\n",
    "\n",
    "    fold_1, fold_2, fold_3, fold_4, fold_5 = [], [], [], [], []\n",
    "\n",
    "    # Classes_data - original Dataset:\n",
    "    # It consists of 8*20 list of len = 25\n",
    "\n",
    "    for i in folder_tree.values():\n",
    "        for j in i.values():\n",
    "            # print(len(j[:number_of_folds]))\n",
    "            # wrap in into loop\n",
    "            for filename in j[:part]:\n",
    "                fold_1.append(filename)\n",
    "            for filename in j[part: 2 * part]:\n",
    "                fold_2.append(filename)\n",
    "            for filename in j[2 * part: 3 * part]:\n",
    "                fold_3.append(filename)\n",
    "            for filename in j[3 * part: 4 * part]:\n",
    "                fold_4.append(filename)\n",
    "            for filename in j[4 * part:]:\n",
    "                fold_5.append(filename)\n",
    "\n",
    "    return (fold_1, fold_2, fold_3, fold_4, fold_5)\n",
    "\n"
   ]
  },
  {
   "cell_type": "code",
   "execution_count": 37,
   "metadata": {},
   "outputs": [
    {
     "name": "stdout",
     "output_type": "stream",
     "text": [
      "800\n",
      "800\n",
      "800\n",
      "800\n",
      "800\n",
      "800\n",
      "800\n",
      "800\n",
      "800\n",
      "800\n",
      "1600\n",
      "1600\n",
      "1600\n",
      "1600\n",
      "1657\n",
      "2400\n",
      "2400\n",
      "2400\n",
      "2400\n",
      "2810\n"
     ]
    }
   ],
   "source": [
    "folds_slice = divide_to_folds(classes_data, 4000)\n",
    "folds_slice_2 = divide_to_folds(classes_split_2, count_2)\n",
    "folds_slice_3 = divide_to_folds(classes_split_3, count_3)\n",
    "folds_slice_5 = divide_to_folds(classes_split_5, count_5)\n",
    "\n",
    "for i in folds_slice:\n",
    "    print(len(i))\n",
    "\n",
    "for i in folds_slice_2:\n",
    "    print(len(i))\n",
    "\n",
    "for i in folds_slice_3:\n",
    "    print(len(i))\n",
    "\n",
    "for i in folds_slice_5:\n",
    "    print(len(i))"
   ]
  },
  {
   "attachments": {},
   "cell_type": "markdown",
   "metadata": {},
   "source": [
    "Let's check, is our distribution OF PATIENTS even or not IN EVERY ITERATION of CUSTOM CV?"
   ]
  },
  {
   "cell_type": "code",
   "execution_count": 38,
   "metadata": {},
   "outputs": [],
   "source": [
    "class CV_iteration():\n",
    "    def __init__(self, name: str, train_set: list, valid_set: list, test_set: list):\n",
    "        self.name = name\n",
    "        self.train_set = train_set\n",
    "        self.valid_set = valid_set\n",
    "        self.test_set = test_set\n",
    "\n",
    "\n",
    "# EXAMPLE OF 5 FOLD CROSS-VALIDATION.\n",
    "# LATER, IT WILL BE WRAPPED INTO A FUNCTION.\n",
    "\n",
    "# iteration_1 = CV_iteration('iteration_1', train_set=fold_1+fold_2 +\n",
    "#                            fold_3, valid_set=fold_4, test_set=fold_5)\n",
    "# \n",
    "# iteration_2 = CV_iteration('iteration_2', train_set=fold_2+fold_3 +\n",
    "#                            fold_4, valid_set=fold_5, test_set=fold_1)\n",
    "# \n",
    "# iteration_3 = CV_iteration('iteration_3', train_set=fold_3+fold_4 +\n",
    "#                            fold_5, valid_set=fold_1, test_set=fold_2)\n",
    "# \n",
    "# iteration_4 = CV_iteration('iteration_4', train_set=fold_4+fold_5 +\n",
    "#                            fold_1, valid_set=fold_2, test_set=fold_3)\n",
    "# \n",
    "# iteration_5 = CV_iteration('iteration_5', train_set=fold_5+fold_1 +\n",
    "#                            fold_2, valid_set=fold_3, test_set=fold_4)\n"
   ]
  },
  {
   "cell_type": "code",
   "execution_count": 39,
   "metadata": {},
   "outputs": [],
   "source": [
    "iteration_original = CV_iteration('original', train_set=folds_slice[0]+folds_slice[1] +\n",
    "                                  folds_slice[2], valid_set=folds_slice[3], test_set=folds_slice[4])\n",
    "\n",
    "iteration_split_2 = CV_iteration('split 2', train_set=folds_slice_2[0]+folds_slice_2[1] +\n",
    "                                 folds_slice_2[2], valid_set=folds_slice_2[3], test_set=folds_slice_2[4])\n",
    "\n",
    "iteration_split_3 = CV_iteration('split 3', train_set=folds_slice_3[0]+folds_slice_3[1] +\n",
    "                                 folds_slice_3[2], valid_set=folds_slice_3[3], test_set=folds_slice_3[4])\n",
    "\n",
    "iteration_split_5 = CV_iteration('split 5', train_set=folds_slice_5[0]+folds_slice_5[1] +\n",
    "                                 folds_slice_5[2], valid_set=folds_slice_5[3], test_set=folds_slice_5[4])\n"
   ]
  },
  {
   "cell_type": "code",
   "execution_count": 40,
   "metadata": {},
   "outputs": [],
   "source": [
    "def evaluate_iteration(iteration: CV_iteration):\n",
    "    def check_distribution(part_of_dataset):\n",
    "        patients_dict = {}\n",
    "        for i in patients_tuple:\n",
    "            patients_dict[i] = 0\n",
    "\n",
    "        for i in patients_dict:\n",
    "            for j in part_of_dataset:\n",
    "                if int(j.split('_')[1]) == i:               # Getting the patient №\n",
    "                    patients_dict[i] = patients_dict[i] + 1\n",
    "        return patients_dict\n",
    "    print(f'''Distribution of patients among train set of {iteration.name} is \\n {check_distribution(iteration.train_set)} \\n\n",
    "              Distribution of patients among valid set of {iteration.name} is \\n {check_distribution(iteration.valid_set)} \\n\n",
    "              Distribution of patients among test set of {iteration.name} is \\n {check_distribution(iteration.test_set)} \\n ''')\n"
   ]
  },
  {
   "attachments": {},
   "cell_type": "markdown",
   "metadata": {},
   "source": [
    "As we can see, now patients have equal distribution among datasets"
   ]
  },
  {
   "cell_type": "code",
   "execution_count": 41,
   "metadata": {},
   "outputs": [
    {
     "name": "stdout",
     "output_type": "stream",
     "text": [
      "Distribution of patients among train set of original is \n",
      " {1: 120, 2: 120, 3: 120, 4: 120, 5: 120, 6: 120, 7: 120, 8: 120, 9: 120, 10: 120, 11: 120, 12: 120, 13: 120, 14: 120, 15: 120, 16: 120, 17: 120, 18: 120, 19: 120, 20: 120} \n",
      "\n",
      "              Distribution of patients among valid set of original is \n",
      " {1: 40, 2: 40, 3: 40, 4: 40, 5: 40, 6: 40, 7: 40, 8: 40, 9: 40, 10: 40, 11: 40, 12: 40, 13: 40, 14: 40, 15: 40, 16: 40, 17: 40, 18: 40, 19: 40, 20: 40} \n",
      "\n",
      "              Distribution of patients among test set of original is \n",
      " {1: 40, 2: 40, 3: 40, 4: 40, 5: 40, 6: 40, 7: 40, 8: 40, 9: 40, 10: 40, 11: 40, 12: 40, 13: 40, 14: 40, 15: 40, 16: 40, 17: 40, 18: 40, 19: 40, 20: 40} \n",
      " \n",
      "Distribution of patients among train set of split 2 is \n",
      " {1: 120, 2: 120, 3: 120, 4: 120, 5: 120, 6: 120, 7: 120, 8: 120, 9: 120, 10: 120, 11: 120, 12: 120, 13: 120, 14: 120, 15: 120, 16: 120, 17: 120, 18: 120, 19: 120, 20: 120} \n",
      "\n",
      "              Distribution of patients among valid set of split 2 is \n",
      " {1: 40, 2: 40, 3: 40, 4: 40, 5: 40, 6: 40, 7: 40, 8: 40, 9: 40, 10: 40, 11: 40, 12: 40, 13: 40, 14: 40, 15: 40, 16: 40, 17: 40, 18: 40, 19: 40, 20: 40} \n",
      "\n",
      "              Distribution of patients among test set of split 2 is \n",
      " {1: 40, 2: 40, 3: 40, 4: 40, 5: 40, 6: 40, 7: 40, 8: 40, 9: 40, 10: 40, 11: 40, 12: 40, 13: 40, 14: 40, 15: 40, 16: 40, 17: 40, 18: 40, 19: 40, 20: 40} \n",
      " \n",
      "Distribution of patients among train set of split 3 is \n",
      " {1: 240, 2: 240, 3: 240, 4: 240, 5: 240, 6: 240, 7: 240, 8: 240, 9: 240, 10: 240, 11: 240, 12: 240, 13: 240, 14: 240, 15: 240, 16: 240, 17: 240, 18: 240, 19: 240, 20: 240} \n",
      "\n",
      "              Distribution of patients among valid set of split 3 is \n",
      " {1: 80, 2: 80, 3: 80, 4: 80, 5: 80, 6: 80, 7: 80, 8: 80, 9: 80, 10: 80, 11: 80, 12: 80, 13: 80, 14: 80, 15: 80, 16: 80, 17: 80, 18: 80, 19: 80, 20: 80} \n",
      "\n",
      "              Distribution of patients among test set of split 3 is \n",
      " {1: 80, 2: 87, 3: 80, 4: 94, 5: 80, 6: 80, 7: 81, 8: 80, 9: 81, 10: 90, 11: 81, 12: 80, 13: 82, 14: 97, 15: 81, 16: 80, 17: 80, 18: 82, 19: 81, 20: 80} \n",
      " \n",
      "Distribution of patients among train set of split 5 is \n",
      " {1: 360, 2: 360, 3: 360, 4: 360, 5: 360, 6: 360, 7: 360, 8: 360, 9: 360, 10: 360, 11: 360, 12: 360, 13: 360, 14: 360, 15: 360, 16: 360, 17: 360, 18: 360, 19: 360, 20: 360} \n",
      "\n",
      "              Distribution of patients among valid set of split 5 is \n",
      " {1: 120, 2: 120, 3: 120, 4: 120, 5: 120, 6: 120, 7: 120, 8: 120, 9: 120, 10: 120, 11: 120, 12: 120, 13: 120, 14: 120, 15: 120, 16: 120, 17: 120, 18: 120, 19: 120, 20: 120} \n",
      "\n",
      "              Distribution of patients among test set of split 5 is \n",
      " {1: 123, 2: 282, 3: 131, 4: 171, 5: 126, 6: 120, 7: 122, 8: 120, 9: 129, 10: 152, 11: 123, 12: 123, 13: 133, 14: 213, 15: 125, 16: 120, 17: 123, 18: 130, 19: 121, 20: 123} \n",
      " \n"
     ]
    }
   ],
   "source": [
    "evaluate_iteration(iteration_original)\n",
    "evaluate_iteration(iteration_split_2)\n",
    "evaluate_iteration(iteration_split_3)\n",
    "evaluate_iteration(iteration_split_5)\n",
    "\n"
   ]
  },
  {
   "attachments": {},
   "cell_type": "markdown",
   "metadata": {},
   "source": [
    "# 4. Making custom train/test/valid dataloaders"
   ]
  },
  {
   "attachments": {},
   "cell_type": "markdown",
   "metadata": {},
   "source": [
    "Helpful links:\n",
    "\n",
    "1. Very good thread from forum about LSTM input - https://discuss.pytorch.org/t/understanding-lstm-input/31110 . This link provides a code for implementing custom sequence length (window size).\n",
    "\n",
    "2. Pytorch LSTM documentation - https://pytorch.org/docs/stable/generated/torch.nn.LSTM.html ."
   ]
  },
  {
   "cell_type": "code",
   "execution_count": 42,
   "metadata": {},
   "outputs": [
    {
     "name": "stdout",
     "output_type": "stream",
     "text": [
      "PyTorch Version:  1.8.2\n"
     ]
    }
   ],
   "source": [
    "print(\"PyTorch Version: \", torch.__version__)"
   ]
  },
  {
   "cell_type": "code",
   "execution_count": 43,
   "metadata": {},
   "outputs": [],
   "source": [
    "class CustomDataset(Dataset):\n",
    "    def __init__(self, filenames: list, classes: dict, is_fixed: bool):\n",
    "        self.filenames = filenames\n",
    "        self.classes = classes\n",
    "        self.is_fixed = is_fixed\n",
    "\n",
    "    def __len__(self):\n",
    "        return int(len(self.filenames))\n",
    "\n",
    "    def __getitem__(self, idx):\n",
    "\n",
    "        data = pd.read_csv(self.filenames[idx])\n",
    "\n",
    "        if self.is_fixed == False:\n",
    "            data = fix_df(data, zerolistmaker, MAX_LEN)\n",
    "        data = torch.from_numpy(np.asarray(data)).float()\n",
    "\n",
    "        # OLD VERSION --> Converting DataFrame file to LIST OF TENSORS\n",
    "        # data = [torch.tensor(df_data)\n",
    "        #         for (df_name, df_data) in data.iteritems()]\n",
    "\n",
    "        splitted_name = self.filenames[idx].split('/')[2].split('_')\n",
    "        class_label = splitted_name[0]\n",
    "\n",
    "        label = self.classes[class_label]\n",
    "        if idx == self.__len__():\n",
    "            raise IndexError\n",
    "\n",
    "        return data, label\n"
   ]
  },
  {
   "attachments": {},
   "cell_type": "markdown",
   "metadata": {},
   "source": [
    "Сheck dataset and dataloader"
   ]
  },
  {
   "cell_type": "code",
   "execution_count": 44,
   "metadata": {},
   "outputs": [
    {
     "name": "stdout",
     "output_type": "stream",
     "text": [
      "Our dataset returns <class 'torch.Tensor'> and it's example is torch.Size([750, 31])\n",
      "Our label is 3 and it's type is <class 'int'>\n"
     ]
    }
   ],
   "source": [
    "check_dataset = CustomDataset(filenames=iteration_split_2.train_set, classes=classes, is_fixed=True)\n",
    "for i, (data, label) in enumerate(check_dataset):\n",
    "    print(f\"Our dataset returns {type(data)} and it's example is {data.shape}\")\n",
    "    print(f\"Our label is {label} and it's type is {type(label)}\")\n",
    "    if i == 0: break"
   ]
  },
  {
   "cell_type": "code",
   "execution_count": 45,
   "metadata": {},
   "outputs": [
    {
     "name": "stdout",
     "output_type": "stream",
     "text": [
      "Our DataLoader returns <class 'torch.Tensor'> and it's example is torch.Size([1, 750, 31])\n",
      "Our DataLoader looks like tensor([[[-4.3962e+01, -6.6454e+01,  7.0529e+01,  ...,  2.7046e+02,\n",
      "           1.6381e+02,  6.6089e+01],\n",
      "         [-4.9975e+01, -3.5423e+01,  6.1607e+01,  ...,  2.6968e+02,\n",
      "           1.3404e+02,  5.8772e+01],\n",
      "         [-2.9372e+01,  9.8600e-02,  5.3626e+01,  ...,  2.3977e+02,\n",
      "           1.0061e+02,  4.5122e+01],\n",
      "         ...,\n",
      "         [ 4.0653e+01,  9.6157e+01,  2.7864e+00,  ..., -2.6335e+01,\n",
      "          -3.0744e+01,  7.9611e+01],\n",
      "         [ 3.3367e+01,  8.5261e+01,  3.8243e+00,  ..., -8.7090e+00,\n",
      "          -2.1066e+01,  6.7197e+01],\n",
      "         [ 2.9253e+01,  6.7275e+01,  1.5440e+01,  ...,  1.8715e+01,\n",
      "           8.3794e+00,  4.8261e+01]]])\n",
      "Our label is tensor([1]) and it's type is <class 'torch.Tensor'>\n"
     ]
    }
   ],
   "source": [
    "dataloader = DataLoader(check_dataset, batch_size=1, shuffle=True)\n",
    "\n",
    "for i, (data, label) in enumerate(dataloader):\n",
    "    print(\n",
    "        f\"Our DataLoader returns {type(data)} and it's example is {data.shape}\")\n",
    "    print(f'Our DataLoader looks like {data}')\n",
    "    print(f\"Our label is {label} and it's type is {type(label)}\")\n",
    "    if i == 0:\n",
    "        break\n"
   ]
  },
  {
   "attachments": {},
   "cell_type": "markdown",
   "metadata": {},
   "source": [
    "It this example:\n",
    "\n",
    "1 - **Batch size**.\n",
    "\n",
    "800 - **Sequence Length**.\n",
    "\n",
    "31 - **Input size**."
   ]
  },
  {
   "attachments": {},
   "cell_type": "markdown",
   "metadata": {},
   "source": [
    "# 5. LSTM pipeline"
   ]
  },
  {
   "attachments": {},
   "cell_type": "markdown",
   "metadata": {},
   "source": [
    "**Useful links**:\n",
    "\n",
    "1. PyTorch LSTM implementation can be taken from: https://www.kaggle.com/code/purplejester/a-simple-lstm-based-time-series-classifier/notebook\n",
    "\n",
    "* In their case - Input == 10, Output == 3.\n",
    "\n",
    "* In my case - Input == 31, Output == 8.\n",
    "\n",
    "2. Reading multiple CSV files in PyTorch: https://biswajitsahoo1111.github.io/post/reading-multiple-csv-files-in-pytorch/#sec_2\n"
   ]
  },
  {
   "cell_type": "code",
   "execution_count": 46,
   "metadata": {},
   "outputs": [
    {
     "name": "stderr",
     "output_type": "stream",
     "text": [
      "/home/cv-worker/anaconda3/envs/neuro/lib/python3.7/site-packages/torchvision/io/image.py:13: UserWarning: Failed to load image Python extension: /home/cv-worker/anaconda3/envs/neuro/lib/python3.7/site-packages/torchvision/image.so: undefined symbol: _ZNK3c106IValue23reportToTensorTypeErrorEv\n",
      "  warn(f\"Failed to load image Python extension: {e}\")\n"
     ]
    }
   ],
   "source": [
    "from torch import nn\n",
    "from torch.nn import functional as F\n",
    "from torchmetrics.classification import F1Score\n",
    "\n",
    "\n",
    "class LSTMClassifier(nn.Module):\n",
    "    \"\"\"Very simple implementation of LSTM-based time-series classifier.\"\"\"\n",
    "\n",
    "    def __init__(self, input_dim, hidden_dim, layer_dim, output_dim):\n",
    "        super().__init__()\n",
    "        self.hidden_dim = hidden_dim\n",
    "        self.layer_dim = layer_dim\n",
    "        self.rnn = nn.LSTM(input_dim, hidden_dim, layer_dim, batch_first=True)\n",
    "        self.fc = nn.Linear(hidden_dim, output_dim)\n",
    "        self.batch_size = None\n",
    "        self.hidden = None\n",
    "\n",
    "    def forward(self, x):\n",
    "        h0, c0 = self.init_hidden(x)\n",
    "        out, (hn, cn) = self.rnn(x, (h0, c0))\n",
    "        out = self.fc(out[:, -1, :])\n",
    "        return out\n",
    "\n",
    "    def init_hidden(self, x):\n",
    "        h0 = torch.zeros(self.layer_dim, x.size(0), self.hidden_dim)\n",
    "        c0 = torch.zeros(self.layer_dim, x.size(0), self.hidden_dim)\n",
    "        return [t.cuda() for t in (h0, c0)]\n"
   ]
  },
  {
   "attachments": {},
   "cell_type": "markdown",
   "metadata": {},
   "source": [
    "Making dataloaders for our pipeline"
   ]
  },
  {
   "cell_type": "code",
   "execution_count": 47,
   "metadata": {},
   "outputs": [],
   "source": [
    "# Original\n",
    "train_dl_original = DataLoader(CustomDataset(\n",
    "    filenames=iteration_original.train_set, classes=classes, is_fixed=False), batch_size=20, shuffle=True)\n",
    "val_dl_original = DataLoader(CustomDataset(\n",
    "    filenames=iteration_original.valid_set, classes=classes, is_fixed=False), batch_size=20, shuffle=True)\n",
    "\n",
    "# split_2\n",
    "train_2 = DataLoader(CustomDataset(\n",
    "    filenames=iteration_split_2.train_set, classes=classes, is_fixed=True), batch_size=2, shuffle=True)\n",
    "val_2 = DataLoader(CustomDataset(\n",
    "    filenames=iteration_split_2.valid_set, classes=classes, is_fixed=True), batch_size=2, shuffle=True)\n",
    "\n",
    "# split_3\n",
    "train_3 = DataLoader(CustomDataset(\n",
    "    filenames=iteration_split_3.train_set, classes=classes, is_fixed=True), batch_size=20, shuffle=True)\n",
    "val_3 = DataLoader(CustomDataset(\n",
    "    filenames=iteration_split_3.valid_set, classes=classes, is_fixed=True), batch_size=20, shuffle=True)\n",
    "\n",
    "# split_5\n",
    "train_5 = DataLoader(CustomDataset(\n",
    "    filenames=iteration_original.train_set, classes=classes, is_fixed=True), batch_size=20, shuffle=True)\n",
    "val_5 = DataLoader(CustomDataset(\n",
    "    filenames=iteration_original.valid_set, classes=classes, is_fixed=True), batch_size=20, shuffle=True)\n"
   ]
  },
  {
   "cell_type": "code",
   "execution_count": 51,
   "metadata": {},
   "outputs": [],
   "source": [
    "input_dim = 31\n",
    "hidden_dim = 256\n",
    "layer_dim = 6      # Number of LSTM layers\n",
    "output_dim = 8\n",
    "\n",
    "\n",
    "lr = 0.05\n",
    "n_epochs = 50\n",
    "best_f1 = 0\n",
    "patience, trials = 15, 0\n"
   ]
  },
  {
   "cell_type": "code",
   "execution_count": 52,
   "metadata": {},
   "outputs": [],
   "source": [
    "model = LSTMClassifier(input_dim, hidden_dim, layer_dim, output_dim)\n",
    "model = model.cuda()\n",
    "# nn.CrossEntropyLoss is a loss function, that applies Softmax automatically\n",
    "criterion = nn.CrossEntropyLoss()\n",
    "opt = torch.optim.RMSprop(model.parameters(), lr=lr)\n"
   ]
  },
  {
   "cell_type": "code",
   "execution_count": 53,
   "metadata": {},
   "outputs": [
    {
     "name": "stdout",
     "output_type": "stream",
     "text": [
      "============================================================================================================================================\n",
      "Layer (type:depth-idx)                   Kernel Shape              Input Shape               Output Shape              Param #\n",
      "============================================================================================================================================\n",
      "LSTMClassifier                           --                        [5, 1438, 31]             [5, 8]                    --\n",
      "├─LSTM: 1-1                              --                        [5, 1438, 31]             [5, 1438, 256]            2,927,616\n",
      "│    └─weight_ih_l0                      [1024, 31]                                                                    ├─31,744\n",
      "│    └─weight_hh_l0                      [1024, 256]                                                                   ├─262,144\n",
      "│    └─bias_ih_l0                        [1024]                                                                        ├─1,024\n",
      "│    └─bias_hh_l0                        [1024]                                                                        ├─1,024\n",
      "│    └─weight_ih_l1                      [1024, 256]                                                                   ├─262,144\n",
      "│    └─weight_hh_l1                      [1024, 256]                                                                   ├─262,144\n",
      "│    └─bias_ih_l1                        [1024]                                                                        ├─1,024\n",
      "│    └─bias_hh_l1                        [1024]                                                                        ├─1,024\n",
      "│    └─weight_ih_l2                      [1024, 256]                                                                   ├─262,144\n",
      "│    └─weight_hh_l2                      [1024, 256]                                                                   ├─262,144\n",
      "│    └─bias_ih_l2                        [1024]                                                                        ├─1,024\n",
      "│    └─bias_hh_l2                        [1024]                                                                        ├─1,024\n",
      "│    └─weight_ih_l3                      [1024, 256]                                                                   ├─262,144\n",
      "│    └─weight_hh_l3                      [1024, 256]                                                                   ├─262,144\n",
      "│    └─bias_ih_l3                        [1024]                                                                        ├─1,024\n",
      "│    └─bias_hh_l3                        [1024]                                                                        ├─1,024\n",
      "│    └─weight_ih_l4                      [1024, 256]                                                                   ├─262,144\n",
      "│    └─weight_hh_l4                      [1024, 256]                                                                   ├─262,144\n",
      "│    └─bias_ih_l4                        [1024]                                                                        ├─1,024\n",
      "│    └─bias_hh_l4                        [1024]                                                                        ├─1,024\n",
      "│    └─weight_ih_l5                      [1024, 256]                                                                   ├─262,144\n",
      "│    └─weight_hh_l5                      [1024, 256]                                                                   ├─262,144\n",
      "│    └─bias_ih_l5                        [1024]                                                                        ├─1,024\n",
      "│    └─bias_hh_l5                        [1024]                                                                        └─1,024\n",
      "├─Linear: 1-2                            --                        [5, 256]                  [5, 8]                    2,056\n",
      "│    └─weight                            [256, 8]                                                                      ├─2,048\n",
      "│    └─bias                              [8]                                                                           └─8\n",
      "============================================================================================================================================\n",
      "Total params: 2,929,672\n",
      "Trainable params: 2,929,672\n",
      "Non-trainable params: 0\n",
      "Total mult-adds (G): 21.05\n",
      "============================================================================================================================================\n",
      "Input size (MB): 0.89\n",
      "Forward/backward pass size (MB): 14.73\n",
      "Params size (MB): 11.72\n",
      "Estimated Total Size (MB): 27.34\n",
      "============================================================================================================================================\n"
     ]
    },
    {
     "data": {
      "text/plain": [
       "============================================================================================================================================\n",
       "Layer (type:depth-idx)                   Kernel Shape              Input Shape               Output Shape              Param #\n",
       "============================================================================================================================================\n",
       "LSTMClassifier                           --                        [5, 1438, 31]             [5, 8]                    --\n",
       "├─LSTM: 1-1                              --                        [5, 1438, 31]             [5, 1438, 256]            2,927,616\n",
       "│    └─weight_ih_l0                      [1024, 31]                                                                    ├─31,744\n",
       "│    └─weight_hh_l0                      [1024, 256]                                                                   ├─262,144\n",
       "│    └─bias_ih_l0                        [1024]                                                                        ├─1,024\n",
       "│    └─bias_hh_l0                        [1024]                                                                        ├─1,024\n",
       "│    └─weight_ih_l1                      [1024, 256]                                                                   ├─262,144\n",
       "│    └─weight_hh_l1                      [1024, 256]                                                                   ├─262,144\n",
       "│    └─bias_ih_l1                        [1024]                                                                        ├─1,024\n",
       "│    └─bias_hh_l1                        [1024]                                                                        ├─1,024\n",
       "│    └─weight_ih_l2                      [1024, 256]                                                                   ├─262,144\n",
       "│    └─weight_hh_l2                      [1024, 256]                                                                   ├─262,144\n",
       "│    └─bias_ih_l2                        [1024]                                                                        ├─1,024\n",
       "│    └─bias_hh_l2                        [1024]                                                                        ├─1,024\n",
       "│    └─weight_ih_l3                      [1024, 256]                                                                   ├─262,144\n",
       "│    └─weight_hh_l3                      [1024, 256]                                                                   ├─262,144\n",
       "│    └─bias_ih_l3                        [1024]                                                                        ├─1,024\n",
       "│    └─bias_hh_l3                        [1024]                                                                        ├─1,024\n",
       "│    └─weight_ih_l4                      [1024, 256]                                                                   ├─262,144\n",
       "│    └─weight_hh_l4                      [1024, 256]                                                                   ├─262,144\n",
       "│    └─bias_ih_l4                        [1024]                                                                        ├─1,024\n",
       "│    └─bias_hh_l4                        [1024]                                                                        ├─1,024\n",
       "│    └─weight_ih_l5                      [1024, 256]                                                                   ├─262,144\n",
       "│    └─weight_hh_l5                      [1024, 256]                                                                   ├─262,144\n",
       "│    └─bias_ih_l5                        [1024]                                                                        ├─1,024\n",
       "│    └─bias_hh_l5                        [1024]                                                                        └─1,024\n",
       "├─Linear: 1-2                            --                        [5, 256]                  [5, 8]                    2,056\n",
       "│    └─weight                            [256, 8]                                                                      ├─2,048\n",
       "│    └─bias                              [8]                                                                           └─8\n",
       "============================================================================================================================================\n",
       "Total params: 2,929,672\n",
       "Trainable params: 2,929,672\n",
       "Non-trainable params: 0\n",
       "Total mult-adds (G): 21.05\n",
       "============================================================================================================================================\n",
       "Input size (MB): 0.89\n",
       "Forward/backward pass size (MB): 14.73\n",
       "Params size (MB): 11.72\n",
       "Estimated Total Size (MB): 27.34\n",
       "============================================================================================================================================"
      ]
     },
     "execution_count": 53,
     "metadata": {},
     "output_type": "execute_result"
    }
   ],
   "source": [
    "from torchinfo import summary\n",
    "\n",
    "# This should help with VISUALIZING MODEL ARCHITECTURE\n",
    "\n",
    "dev = torch.device(\n",
    "    \"cuda\") if torch.cuda.is_available() else torch.device(\"cpu\")\n",
    "\n",
    "summary(LSTMClassifier(input_dim, hidden_dim, layer_dim, output_dim),\n",
    "        input_size=(5, 1438, 31), col_names=[\"kernel_size\", \"input_size\", \"output_size\", \"num_params\"], \n",
    "        verbose=2)\n"
   ]
  },
  {
   "attachments": {},
   "cell_type": "markdown",
   "metadata": {},
   "source": [
    "Training"
   ]
  },
  {
   "cell_type": "code",
   "execution_count": null,
   "metadata": {},
   "outputs": [],
   "source": [
    "from torch.utils.tensorboard import SummaryWriter\n",
    "\n",
    "log_folder = 'runs/Jupyter_split_2'\n",
    "writer = SummaryWriter(log_folder)\n",
    "writer.add_text('TEXT', 'Start model training', 0)"
   ]
  },
  {
   "cell_type": "code",
   "execution_count": null,
   "metadata": {},
   "outputs": [],
   "source": [
    "from clearml import Task\n",
    "\n",
    "# task = Task.init(project_name='Neuroscience_thesys',\n",
    "#                  task_name='pytorch_training_0')\n",
    "\n",
    "print('Start model training')\n",
    "\n",
    "for epoch in range(1, n_epochs + 1):\n",
    "\n",
    "    for i, (x_batch, y_batch) in enumerate(train_2):\n",
    "        model.train()\n",
    "        x_batch = x_batch.cuda()\n",
    "        print(f'x_batch is {x_batch}')\n",
    "        y_batch = y_batch.cuda()\n",
    "        opt.zero_grad()\n",
    "        # SOFTMAX is not needed, because\n",
    "        # OUR LOSS Function applies it for us\n",
    "        out = model(x_batch)\n",
    "        print(f'model output is {out}')\n",
    "        print(f'y_batch is {y_batch}')\n",
    "\n",
    "        loss = criterion(out, y_batch)\n",
    "        writer.add_scalar(\"Loss/train\", loss, epoch)\n",
    "        loss.backward()\n",
    "        opt.step()\n",
    " \n",
    "    model.eval()\n",
    "    correct, total = 0, 0\n",
    "    for x_val, y_val in val_2:\n",
    "        x_val, y_val = [t.cuda() for t in (x_val, y_val)]\n",
    "        # Forward pass\n",
    "        out = model(x_val)\n",
    "\n",
    "        # Use Softmax for classification\n",
    "        preds = F.log_softmax(out, dim=1)\n",
    "        preds = preds.argmax(dim=1)\n",
    "\n",
    "        total += y_val.size(0)\n",
    "        correct += (preds == y_val).sum().item()\n",
    "\n",
    "    # ACTUALLY, IT'S A ACCURACY\n",
    "    f1 = correct / total\n",
    "    writer.add_scalar(\"Accuracy_score\", f1, epoch)\n",
    "\n",
    "    if epoch % 5 == 0:\n",
    "        print(f'Epoch: {epoch:3d}. Loss: {loss.item():.4f}. f1.: {f1:2.2%}')\n",
    "\n",
    "    if f1 > best_f1:\n",
    "        trials = 0\n",
    "        best_f1 = f1\n",
    "        torch.save(model.state_dict(), 'best.pth')\n",
    "        print(f'Epoch {epoch} best model saved with f1: {best_f1:2.2%}')\n",
    "    else:\n",
    "        trials += 1\n",
    "        if trials >= patience:\n",
    "            print(f'Early stopping on epoch {epoch}')\n",
    "            break\n",
    "print('The training is finished! Restoring the best model weights')\n"
   ]
  },
  {
   "attachments": {},
   "cell_type": "markdown",
   "metadata": {},
   "source": [
    "**Useful links**:\n",
    "\n",
    "1. Accessing the network weights in Pytorch: https://stackoverflow.com/questions/56435961/how-to-access-the-network-weights-while-using-pytorch-nn-sequential\n",
    "\n",
    "2. How To Print Model Architecture And Extract Model Weights in PyTorch: https://clay-atlas.com/us/blog/2021/07/29/pytorch-en-extract-model-layer-weights/"
   ]
  }
 ],
 "metadata": {
  "kernelspec": {
   "display_name": "neuro",
   "language": "python",
   "name": "python3"
  },
  "language_info": {
   "codemirror_mode": {
    "name": "ipython",
    "version": 3
   },
   "file_extension": ".py",
   "mimetype": "text/x-python",
   "name": "python",
   "nbconvert_exporter": "python",
   "pygments_lexer": "ipython3",
   "version": "3.7.16"
  },
  "orig_nbformat": 4,
  "vscode": {
   "interpreter": {
    "hash": "732a3710939e9a96eb16914d9450898ec77fd826e2a16f4c7b7a3419d423a3d9"
   }
  }
 },
 "nbformat": 4,
 "nbformat_minor": 2
}
